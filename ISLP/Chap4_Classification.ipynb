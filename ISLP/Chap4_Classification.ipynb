{
 "cells": [
  {
   "cell_type": "code",
   "execution_count": 1,
   "id": "d9f939da",
   "metadata": {},
   "outputs": [],
   "source": [
    "import numpy as np\n",
    "import pandas as pd\n",
    "from matplotlib.pyplot import subplots\n",
    "import statsmodels.api as sm\n",
    "from ISLP import load_data\n",
    "from ISLP.models import (ModelSpec as MS, summarize)"
   ]
  },
  {
   "cell_type": "code",
   "execution_count": 2,
   "id": "3551efe6",
   "metadata": {},
   "outputs": [],
   "source": [
    "from ISLP import confusion_table\n",
    "from ISLP.models import contrast\n",
    "from sklearn.discriminant_analysis import \\\n",
    "(LinearDiscriminantAnalysis as LDA,\n",
    "QuadraticDiscriminantAnalysis as QDA)\n",
    "from sklearn.naive_bayes import GaussianNB\n",
    "from sklearn.neighbors import KNeighborsClassifier\n",
    "from sklearn.preprocessing import StandardScaler\n",
    "from sklearn.model_selection import train_test_split\n",
    "from sklearn.linear_model import LogisticRegression"
   ]
  },
  {
   "cell_type": "markdown",
   "id": "520428f8",
   "metadata": {},
   "source": [
    "## Logistic Regression"
   ]
  },
  {
   "cell_type": "code",
   "execution_count": 3,
   "id": "7eaece92",
   "metadata": {},
   "outputs": [
    {
     "name": "stdout",
     "output_type": "stream",
     "text": [
      "Truth      Down   Up\n",
      "Predicted           \n",
      "Down         35   35\n",
      "Up           76  106\n",
      "Correct rate for test set is  0.5595238095238095\n"
     ]
    }
   ],
   "source": [
    "Smarket = load_data('Smarket')\n",
    "\n",
    "#allvars = Smarket.columns.drop(['Today', 'Direction', 'Year']) # all predictors\n",
    "allvars = ['Lag1','Lag2'] # by removing other less related variable we can improve the correct rate\n",
    "design = MS(allvars)\n",
    "\n",
    "X = design.fit_transform(Smarket)\n",
    "y = Smarket.Direction == 'Up' # True/False response\n",
    "\n",
    "train = (Smarket.Year < 2005) # Separate the data into train and test\n",
    "Smarket_train = Smarket.loc[train]\n",
    "Smarket_test = Smarket.loc[~train]\n",
    "X_train, X_test = X.loc[train], X.loc[~train]\n",
    "y_train, y_test = y.loc[train], y.loc[~train]\n",
    "D = Smarket.Direction\n",
    "L_train, L_test = D.loc[train], D.loc[~train]\n",
    "\n",
    "glm_train = sm.GLM(y_train, X_train, family=sm.families.Binomial())\n",
    "results = glm_train.fit()\n",
    "\n",
    "probs = results.predict(exog=X_test)\n",
    "labels = np.array(['Down'] * len(probs))\n",
    "labels[probs > 0.5] = 'Up'\n",
    "\n",
    "print(confusion_table(labels, L_test))\n",
    "print(\"Correct rate for test set is \", np.mean(labels == L_test))"
   ]
  },
  {
   "cell_type": "markdown",
   "id": "38d64c46",
   "metadata": {},
   "source": [
    "## LDA"
   ]
  },
  {
   "cell_type": "code",
   "execution_count": 4,
   "id": "f784fc9f",
   "metadata": {},
   "outputs": [],
   "source": [
    "X_train, X_test = [M.drop(columns = ['intercept']) for M in [X_train, X_test]]"
   ]
  },
  {
   "cell_type": "code",
   "execution_count": 5,
   "id": "11108182",
   "metadata": {},
   "outputs": [
    {
     "name": "stdout",
     "output_type": "stream",
     "text": [
      "Truth      Down   Up\n",
      "Predicted           \n",
      "Down         35   35\n",
      "Up           76  106\n"
     ]
    },
    {
     "data": {
      "text/plain": [
       "True"
      ]
     },
     "execution_count": 5,
     "metadata": {},
     "output_type": "execute_result"
    }
   ],
   "source": [
    "model = LDA(store_covariance = True)\n",
    "model.fit(X_train, L_train)\n",
    "model_test = model.predict(X_test)\n",
    "print(confusion_table(model_test, L_test))\n",
    "\n",
    "model_prob = model.predict_proba(X_test)\n",
    "np.all([model.classes_[i] for i in np.argmax(model_prob, axis=1)] == model_test)  # check decision boundary, np.all(np.where(model_prob[:, 1] >= 0.5, 'Up', 'Down') == model_test)"
   ]
  },
  {
   "cell_type": "markdown",
   "id": "53f80767",
   "metadata": {},
   "source": [
    "## QDA"
   ]
  },
  {
   "cell_type": "code",
   "execution_count": 6,
   "id": "08004b20",
   "metadata": {},
   "outputs": [
    {
     "name": "stdout",
     "output_type": "stream",
     "text": [
      "Truth      Down   Up\n",
      "Predicted           \n",
      "Down         30   20\n",
      "Up           81  121\n"
     ]
    },
    {
     "data": {
      "text/plain": [
       "True"
      ]
     },
     "execution_count": 6,
     "metadata": {},
     "output_type": "execute_result"
    }
   ],
   "source": [
    "model = QDA(store_covariance = True)\n",
    "\n",
    "model.fit(X_train, L_train)\n",
    "model_test = model.predict(X_test)\n",
    "print(confusion_table(model_test, L_test))\n",
    "model_prob = model.predict_proba(X_test)\n",
    "np.all([model.classes_[i] for i in np.argmax(model_prob, axis=1)] == model_test)  # check decision boundary, np.all(np.where(model_prob[:, 1] >= 0.5, 'Up', 'Down') == model_test)"
   ]
  },
  {
   "cell_type": "markdown",
   "id": "31c08aa4",
   "metadata": {},
   "source": [
    "## Naive Bayes"
   ]
  },
  {
   "cell_type": "code",
   "execution_count": 7,
   "id": "08420511",
   "metadata": {},
   "outputs": [
    {
     "name": "stdout",
     "output_type": "stream",
     "text": [
      "Truth      Down   Up\n",
      "Predicted           \n",
      "Down         29   20\n",
      "Up           82  121\n"
     ]
    },
    {
     "data": {
      "text/plain": [
       "True"
      ]
     },
     "execution_count": 7,
     "metadata": {},
     "output_type": "execute_result"
    }
   ],
   "source": [
    "model = GaussianNB()\n",
    "model.fit(X_train, L_train)\n",
    "model_test = model.predict(X_test)\n",
    "print(confusion_table(model_test, L_test))\n",
    "\n",
    "model_prob = model.predict_proba(X_test)\n",
    "np.all([model.classes_[i] for i in np.argmax(model_prob, axis=1)] == model_test)  # check decision boundary, np.all(np.where(model_prob[:, 1] >= 0.5, 'Up', 'Down') == model_test)"
   ]
  },
  {
   "cell_type": "markdown",
   "id": "3ab3c8fa",
   "metadata": {},
   "source": [
    "## KNN"
   ]
  },
  {
   "cell_type": "code",
   "execution_count": 8,
   "id": "2343fbe7",
   "metadata": {},
   "outputs": [
    {
     "name": "stdout",
     "output_type": "stream",
     "text": [
      "Truth      Down  Up\n",
      "Predicted          \n",
      "Down         48  55\n",
      "Up           63  86\n"
     ]
    },
    {
     "data": {
      "text/plain": [
       "True"
      ]
     },
     "execution_count": 8,
     "metadata": {},
     "output_type": "execute_result"
    }
   ],
   "source": [
    "model = KNeighborsClassifier(n_neighbors=3)\n",
    "model.fit(X_train, L_train)\n",
    "model_test = model.predict(X_test)\n",
    "print(confusion_table(model_test, L_test))\n",
    "\n",
    "model_prob = model.predict_proba(X_test)\n",
    "np.all([model.classes_[i] for i in np.argmax(model_prob, axis=1)] == model_test)  # check decision boundary, np.all(np.where(model_prob[:, 1] >= 0.5, 'Up', 'Down') == model_test)"
   ]
  },
  {
   "cell_type": "markdown",
   "id": "d6647701",
   "metadata": {},
   "source": [
    "### Example: Caravan"
   ]
  },
  {
   "cell_type": "code",
   "execution_count": 16,
   "id": "48a9aaa8",
   "metadata": {},
   "outputs": [],
   "source": [
    "Caravan = load_data('Caravan')\n",
    "Purchase = Caravan.Purchase\n",
    "#Purchase.value_counts()\n",
    "feature_df = Caravan.drop(columns=['Purchase'])"
   ]
  },
  {
   "cell_type": "code",
   "execution_count": 24,
   "id": "69818beb",
   "metadata": {},
   "outputs": [
    {
     "data": {
      "text/plain": [
       "MOSTYPE    -7.749822e-17\n",
       "MAANTHUI   -1.614038e-16\n",
       "MGEMOMV    -2.099164e-16\n",
       "MGEMLEEF    2.154084e-16\n",
       "MOSHOOFD   -2.929067e-17\n",
       "                ...     \n",
       "AZEILPL    -6.102222e-19\n",
       "APLEZIER   -1.830667e-18\n",
       "AFIETS      0.000000e+00\n",
       "AINBOED     3.905422e-17\n",
       "ABYSTAND    3.356222e-18\n",
       "Length: 85, dtype: float64"
      ]
     },
     "execution_count": 24,
     "metadata": {},
     "output_type": "execute_result"
    }
   ],
   "source": [
    "scaler = StandardScaler(with_mean = True, with_std = True, copy = True)\n",
    "scaler.fit(feature_df)\n",
    "X_std = scaler.transform(feature_df)\n",
    "feature_std = pd.DataFrame(X_std, columns = feature_df.columns)"
   ]
  },
  {
   "cell_type": "code",
   "execution_count": 64,
   "id": "818fc3ee",
   "metadata": {},
   "outputs": [
    {
     "name": "stdout",
     "output_type": "stream",
     "text": [
      "Truth       No  Yes\n",
      "Predicted          \n",
      "No         880   58\n",
      "Yes         53    9\n"
     ]
    },
    {
     "data": {
      "text/plain": [
       "True"
      ]
     },
     "execution_count": 64,
     "metadata": {},
     "output_type": "execute_result"
    }
   ],
   "source": [
    "(X_train, X_test, y_train, y_test) = train_test_split(feature_std, Purchase, test_size = 1000, random_state = 0) # randomly devide train and test set\n",
    "model = KNeighborsClassifier(n_neighbors = 1)\n",
    "model.fit(X_train, y_train)\n",
    "\n",
    "model_test = model.predict(X_test)\n",
    "print(confusion_table(model_test, y_test))\n",
    "\n",
    "model_prob = model.predict_proba(X_test)\n",
    "np.all([model.classes_[i] for i in np.argmax(model_prob, axis=1)] == model_test)  # check decision boundary, np.all(np.where(model_prob[:, 1] >= 0.5, 'Up', 'Down') == model_test)"
   ]
  },
  {
   "cell_type": "code",
   "execution_count": 65,
   "id": "ba40d2aa",
   "metadata": {},
   "outputs": [
    {
     "name": "stdout",
     "output_type": "stream",
     "text": [
      "Prediction accuracy is  0.889\n",
      "Prediction accuracy for Yes is  0.13432835820895522\n",
      "Better than null rate  0.067\n"
     ]
    }
   ],
   "source": [
    "# \n",
    "print(\"Prediction accuracy is \", np.mean(model_test == y_test))\n",
    "print(\"Prediction accuracy for Yes is \", sum((y_test == \"Yes\") & (model_test == \"Yes\")) / sum(y_test == \"Yes\"))\n",
    "print(\"Better than null rate \", np.mean(y_test == \"Yes\"))"
   ]
  },
  {
   "cell_type": "code",
   "execution_count": null,
   "id": "f7ed515e",
   "metadata": {},
   "outputs": [],
   "source": []
  },
  {
   "cell_type": "code",
   "execution_count": null,
   "id": "22abb071",
   "metadata": {},
   "outputs": [],
   "source": []
  }
 ],
 "metadata": {
  "kernelspec": {
   "display_name": "Python 3 (ipykernel)",
   "language": "python",
   "name": "python3"
  },
  "language_info": {
   "codemirror_mode": {
    "name": "ipython",
    "version": 3
   },
   "file_extension": ".py",
   "mimetype": "text/x-python",
   "name": "python",
   "nbconvert_exporter": "python",
   "pygments_lexer": "ipython3",
   "version": "3.11.3"
  }
 },
 "nbformat": 4,
 "nbformat_minor": 5
}
