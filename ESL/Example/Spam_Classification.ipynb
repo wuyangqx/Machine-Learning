{
 "cells": [
  {
   "cell_type": "code",
   "execution_count": 11,
   "metadata": {},
   "outputs": [],
   "source": [
    "# load the spam data\n",
    "import pandas as pd\n",
    "df = pd.read_csv(\"../data/Spam.txt\")"
   ]
  },
  {
   "cell_type": "code",
   "execution_count": 12,
   "metadata": {},
   "outputs": [],
   "source": [
    "# PAGE 301. We coded spam as 1 and email as zero. A test set of size 1536 was\n",
    "#           randomly chosen, leaving 3065 observations in the training set.\n",
    "target = 'spam'\n",
    "columns = ['word_freq_make', 'word_freq_address', 'word_freq_all',\n",
    "           'word_freq_3d', 'word_freq_our', 'word_freq_over',\n",
    "           'word_freq_remove', 'word_freq_internet', 'word_freq_order',\n",
    "           'word_freq_mail', 'word_freq_receive', 'word_freq_will',\n",
    "           'word_freq_people', 'word_freq_report', 'word_freq_addresses',\n",
    "           'word_freq_free', 'word_freq_business', 'word_freq_email',\n",
    "           'word_freq_you', 'word_freq_credit', 'word_freq_your',\n",
    "           'word_freq_font', 'word_freq_000', 'word_freq_money',\n",
    "           'word_freq_hp', 'word_freq_hpl', 'word_freq_george',\n",
    "           'word_freq_650', 'word_freq_lab', 'word_freq_labs',\n",
    "           'word_freq_telnet', 'word_freq_857', 'word_freq_data',\n",
    "           'word_freq_415', 'word_freq_85', 'word_freq_technology',\n",
    "           'word_freq_1999', 'word_freq_parts', 'word_freq_pm',\n",
    "           'word_freq_direct', 'word_freq_cs', 'word_freq_meeting',\n",
    "           'word_freq_original', 'word_freq_project', 'word_freq_re',\n",
    "           'word_freq_edu', 'word_freq_table', 'word_freq_conference',\n",
    "           'char_freq_;', 'char_freq_(', 'char_freq_[', 'char_freq_!',\n",
    "           'char_freq_$', 'char_freq_#', 'capital_run_length_average',\n",
    "           'capital_run_length_longest', 'capital_run_length_total']\n",
    "# let's give columns more compact names\n",
    "features = ['make', 'address', 'all', '3d', 'our', 'over', 'remove',\n",
    "            'internet', 'order', 'mail', 'receive', 'will', 'people',\n",
    "            'report', 'addresses', 'free', 'business', 'email', 'you',\n",
    "            'credit', 'your', 'font', '000', 'money', 'hp', 'hpl',\n",
    "            'george', '650', 'lab', 'labs', 'telnet', '857', 'data',\n",
    "            '415', '85', 'technology', '1999', 'parts', 'pm', 'direct',\n",
    "            'cs', 'meeting', 'original', 'project', 're', 'edu', 'table',\n",
    "            'conference', 'ch_;', 'ch(', 'ch[', 'ch!', 'ch$', 'ch#',\n",
    "            'CAPAVE', 'CAPMAX', 'CAPTOT']\n",
    "\n",
    "X, y = df[columns].values, df[target].values\n",
    "\n",
    "# split by test column value\n",
    "is_test = df.test.values\n",
    "X_train, X_test = X[is_test == 0], X[is_test == 1]\n",
    "y_train, y_test = y[is_test == 0], y[is_test == 1]\n",
    "\n",
    "\n",
    "# tranform the data with log(1+x) transformation as X is too skewed\n",
    "import numpy as np\n",
    "X_train = np.log1p(X_train)\n",
    "X_test = np.log1p(X_test)"
   ]
  },
  {
   "cell_type": "markdown",
   "metadata": {},
   "source": [
    "### Logistic Regression"
   ]
  },
  {
   "cell_type": "code",
   "execution_count": 63,
   "metadata": {},
   "outputs": [
    {
     "name": "stdout",
     "output_type": "stream",
     "text": [
      "Accuracy: 0.9414\n"
     ]
    }
   ],
   "source": [
    "# fit X_train, y_train with LogisticRegression and calculate the accuracy\n",
    "from sklearn.linear_model import LogisticRegression\n",
    "from sklearn.metrics import accuracy_score\n",
    "lr = LogisticRegression(solver='liblinear', random_state=101)\n",
    "lr.fit(X_train, y_train)\n",
    "y_lr = lr.predict(X_test)\n",
    "accuracy = accuracy_score(y_test, y_lr)\n",
    "print(f\"Accuracy: {accuracy:.4f}\")\n"
   ]
  },
  {
   "cell_type": "markdown",
   "metadata": {},
   "source": [
    "### Decision Tree"
   ]
  },
  {
   "cell_type": "code",
   "execution_count": 65,
   "metadata": {},
   "outputs": [
    {
     "name": "stdout",
     "output_type": "stream",
     "text": [
      "Accuracy: 0.9160\n"
     ]
    }
   ],
   "source": [
    "# fit X_train, y_train with DecisionTree\n",
    "from sklearn.tree import DecisionTreeClassifier\n",
    "from sklearn.metrics import accuracy_score\n",
    "tree = DecisionTreeClassifier(random_state=101, max_depth=10)\n",
    "tree.fit(X_train, y_train)\n",
    "y_tree = tree.predict(X_test)\n",
    "accuracy = accuracy_score(y_test, y_tree)\n",
    "print(f\"Accuracy: {accuracy:.4f}\")\n"
   ]
  },
  {
   "cell_type": "code",
   "execution_count": 54,
   "metadata": {},
   "outputs": [
    {
     "data": {
      "application/vnd.plotly.v1+json": {
       "config": {
        "plotlyServerURL": "https://plot.ly"
       },
       "data": [
        {
         "hovertemplate": "max_leaf_nodes=%{x}<br>accuracy=%{y}<extra></extra>",
         "legendgroup": "",
         "line": {
          "color": "#636efa",
          "dash": "solid"
         },
         "marker": {
          "symbol": "circle"
         },
         "mode": "lines",
         "name": "",
         "orientation": "v",
         "showlegend": false,
         "type": "scatter",
         "x": [
          2,
          3,
          4,
          5,
          6,
          7,
          8,
          9,
          10,
          17,
          18,
          21,
          26,
          30,
          33,
          37,
          42
         ],
         "xaxis": "x",
         "y": [
          0.7758382831960147,
          0.8319505652423838,
          0.8417512933512168,
          0.8616689020885226,
          0.8808988524834473,
          0.8838389644674374,
          0.8890602712311854,
          0.8936269187370932,
          0.8939537161227141,
          0.8955834451044262,
          0.8949298503331844,
          0.8955728002384451,
          0.8985107832492389,
          0.8978614464243895,
          0.9001437056907454,
          0.8994890464329055,
          0.9014466372868366
         ],
         "yaxis": "y"
        }
       ],
       "layout": {
        "legend": {
         "tracegroupgap": 0
        },
        "template": {
         "data": {
          "bar": [
           {
            "error_x": {
             "color": "#2a3f5f"
            },
            "error_y": {
             "color": "#2a3f5f"
            },
            "marker": {
             "line": {
              "color": "#E5ECF6",
              "width": 0.5
             },
             "pattern": {
              "fillmode": "overlay",
              "size": 10,
              "solidity": 0.2
             }
            },
            "type": "bar"
           }
          ],
          "barpolar": [
           {
            "marker": {
             "line": {
              "color": "#E5ECF6",
              "width": 0.5
             },
             "pattern": {
              "fillmode": "overlay",
              "size": 10,
              "solidity": 0.2
             }
            },
            "type": "barpolar"
           }
          ],
          "carpet": [
           {
            "aaxis": {
             "endlinecolor": "#2a3f5f",
             "gridcolor": "white",
             "linecolor": "white",
             "minorgridcolor": "white",
             "startlinecolor": "#2a3f5f"
            },
            "baxis": {
             "endlinecolor": "#2a3f5f",
             "gridcolor": "white",
             "linecolor": "white",
             "minorgridcolor": "white",
             "startlinecolor": "#2a3f5f"
            },
            "type": "carpet"
           }
          ],
          "choropleth": [
           {
            "colorbar": {
             "outlinewidth": 0,
             "ticks": ""
            },
            "type": "choropleth"
           }
          ],
          "contour": [
           {
            "colorbar": {
             "outlinewidth": 0,
             "ticks": ""
            },
            "colorscale": [
             [
              0,
              "#0d0887"
             ],
             [
              0.1111111111111111,
              "#46039f"
             ],
             [
              0.2222222222222222,
              "#7201a8"
             ],
             [
              0.3333333333333333,
              "#9c179e"
             ],
             [
              0.4444444444444444,
              "#bd3786"
             ],
             [
              0.5555555555555556,
              "#d8576b"
             ],
             [
              0.6666666666666666,
              "#ed7953"
             ],
             [
              0.7777777777777778,
              "#fb9f3a"
             ],
             [
              0.8888888888888888,
              "#fdca26"
             ],
             [
              1,
              "#f0f921"
             ]
            ],
            "type": "contour"
           }
          ],
          "contourcarpet": [
           {
            "colorbar": {
             "outlinewidth": 0,
             "ticks": ""
            },
            "type": "contourcarpet"
           }
          ],
          "heatmap": [
           {
            "colorbar": {
             "outlinewidth": 0,
             "ticks": ""
            },
            "colorscale": [
             [
              0,
              "#0d0887"
             ],
             [
              0.1111111111111111,
              "#46039f"
             ],
             [
              0.2222222222222222,
              "#7201a8"
             ],
             [
              0.3333333333333333,
              "#9c179e"
             ],
             [
              0.4444444444444444,
              "#bd3786"
             ],
             [
              0.5555555555555556,
              "#d8576b"
             ],
             [
              0.6666666666666666,
              "#ed7953"
             ],
             [
              0.7777777777777778,
              "#fb9f3a"
             ],
             [
              0.8888888888888888,
              "#fdca26"
             ],
             [
              1,
              "#f0f921"
             ]
            ],
            "type": "heatmap"
           }
          ],
          "heatmapgl": [
           {
            "colorbar": {
             "outlinewidth": 0,
             "ticks": ""
            },
            "colorscale": [
             [
              0,
              "#0d0887"
             ],
             [
              0.1111111111111111,
              "#46039f"
             ],
             [
              0.2222222222222222,
              "#7201a8"
             ],
             [
              0.3333333333333333,
              "#9c179e"
             ],
             [
              0.4444444444444444,
              "#bd3786"
             ],
             [
              0.5555555555555556,
              "#d8576b"
             ],
             [
              0.6666666666666666,
              "#ed7953"
             ],
             [
              0.7777777777777778,
              "#fb9f3a"
             ],
             [
              0.8888888888888888,
              "#fdca26"
             ],
             [
              1,
              "#f0f921"
             ]
            ],
            "type": "heatmapgl"
           }
          ],
          "histogram": [
           {
            "marker": {
             "pattern": {
              "fillmode": "overlay",
              "size": 10,
              "solidity": 0.2
             }
            },
            "type": "histogram"
           }
          ],
          "histogram2d": [
           {
            "colorbar": {
             "outlinewidth": 0,
             "ticks": ""
            },
            "colorscale": [
             [
              0,
              "#0d0887"
             ],
             [
              0.1111111111111111,
              "#46039f"
             ],
             [
              0.2222222222222222,
              "#7201a8"
             ],
             [
              0.3333333333333333,
              "#9c179e"
             ],
             [
              0.4444444444444444,
              "#bd3786"
             ],
             [
              0.5555555555555556,
              "#d8576b"
             ],
             [
              0.6666666666666666,
              "#ed7953"
             ],
             [
              0.7777777777777778,
              "#fb9f3a"
             ],
             [
              0.8888888888888888,
              "#fdca26"
             ],
             [
              1,
              "#f0f921"
             ]
            ],
            "type": "histogram2d"
           }
          ],
          "histogram2dcontour": [
           {
            "colorbar": {
             "outlinewidth": 0,
             "ticks": ""
            },
            "colorscale": [
             [
              0,
              "#0d0887"
             ],
             [
              0.1111111111111111,
              "#46039f"
             ],
             [
              0.2222222222222222,
              "#7201a8"
             ],
             [
              0.3333333333333333,
              "#9c179e"
             ],
             [
              0.4444444444444444,
              "#bd3786"
             ],
             [
              0.5555555555555556,
              "#d8576b"
             ],
             [
              0.6666666666666666,
              "#ed7953"
             ],
             [
              0.7777777777777778,
              "#fb9f3a"
             ],
             [
              0.8888888888888888,
              "#fdca26"
             ],
             [
              1,
              "#f0f921"
             ]
            ],
            "type": "histogram2dcontour"
           }
          ],
          "mesh3d": [
           {
            "colorbar": {
             "outlinewidth": 0,
             "ticks": ""
            },
            "type": "mesh3d"
           }
          ],
          "parcoords": [
           {
            "line": {
             "colorbar": {
              "outlinewidth": 0,
              "ticks": ""
             }
            },
            "type": "parcoords"
           }
          ],
          "pie": [
           {
            "automargin": true,
            "type": "pie"
           }
          ],
          "scatter": [
           {
            "fillpattern": {
             "fillmode": "overlay",
             "size": 10,
             "solidity": 0.2
            },
            "type": "scatter"
           }
          ],
          "scatter3d": [
           {
            "line": {
             "colorbar": {
              "outlinewidth": 0,
              "ticks": ""
             }
            },
            "marker": {
             "colorbar": {
              "outlinewidth": 0,
              "ticks": ""
             }
            },
            "type": "scatter3d"
           }
          ],
          "scattercarpet": [
           {
            "marker": {
             "colorbar": {
              "outlinewidth": 0,
              "ticks": ""
             }
            },
            "type": "scattercarpet"
           }
          ],
          "scattergeo": [
           {
            "marker": {
             "colorbar": {
              "outlinewidth": 0,
              "ticks": ""
             }
            },
            "type": "scattergeo"
           }
          ],
          "scattergl": [
           {
            "marker": {
             "colorbar": {
              "outlinewidth": 0,
              "ticks": ""
             }
            },
            "type": "scattergl"
           }
          ],
          "scattermapbox": [
           {
            "marker": {
             "colorbar": {
              "outlinewidth": 0,
              "ticks": ""
             }
            },
            "type": "scattermapbox"
           }
          ],
          "scatterpolar": [
           {
            "marker": {
             "colorbar": {
              "outlinewidth": 0,
              "ticks": ""
             }
            },
            "type": "scatterpolar"
           }
          ],
          "scatterpolargl": [
           {
            "marker": {
             "colorbar": {
              "outlinewidth": 0,
              "ticks": ""
             }
            },
            "type": "scatterpolargl"
           }
          ],
          "scatterternary": [
           {
            "marker": {
             "colorbar": {
              "outlinewidth": 0,
              "ticks": ""
             }
            },
            "type": "scatterternary"
           }
          ],
          "surface": [
           {
            "colorbar": {
             "outlinewidth": 0,
             "ticks": ""
            },
            "colorscale": [
             [
              0,
              "#0d0887"
             ],
             [
              0.1111111111111111,
              "#46039f"
             ],
             [
              0.2222222222222222,
              "#7201a8"
             ],
             [
              0.3333333333333333,
              "#9c179e"
             ],
             [
              0.4444444444444444,
              "#bd3786"
             ],
             [
              0.5555555555555556,
              "#d8576b"
             ],
             [
              0.6666666666666666,
              "#ed7953"
             ],
             [
              0.7777777777777778,
              "#fb9f3a"
             ],
             [
              0.8888888888888888,
              "#fdca26"
             ],
             [
              1,
              "#f0f921"
             ]
            ],
            "type": "surface"
           }
          ],
          "table": [
           {
            "cells": {
             "fill": {
              "color": "#EBF0F8"
             },
             "line": {
              "color": "white"
             }
            },
            "header": {
             "fill": {
              "color": "#C8D4E3"
             },
             "line": {
              "color": "white"
             }
            },
            "type": "table"
           }
          ]
         },
         "layout": {
          "annotationdefaults": {
           "arrowcolor": "#2a3f5f",
           "arrowhead": 0,
           "arrowwidth": 1
          },
          "autotypenumbers": "strict",
          "coloraxis": {
           "colorbar": {
            "outlinewidth": 0,
            "ticks": ""
           }
          },
          "colorscale": {
           "diverging": [
            [
             0,
             "#8e0152"
            ],
            [
             0.1,
             "#c51b7d"
            ],
            [
             0.2,
             "#de77ae"
            ],
            [
             0.3,
             "#f1b6da"
            ],
            [
             0.4,
             "#fde0ef"
            ],
            [
             0.5,
             "#f7f7f7"
            ],
            [
             0.6,
             "#e6f5d0"
            ],
            [
             0.7,
             "#b8e186"
            ],
            [
             0.8,
             "#7fbc41"
            ],
            [
             0.9,
             "#4d9221"
            ],
            [
             1,
             "#276419"
            ]
           ],
           "sequential": [
            [
             0,
             "#0d0887"
            ],
            [
             0.1111111111111111,
             "#46039f"
            ],
            [
             0.2222222222222222,
             "#7201a8"
            ],
            [
             0.3333333333333333,
             "#9c179e"
            ],
            [
             0.4444444444444444,
             "#bd3786"
            ],
            [
             0.5555555555555556,
             "#d8576b"
            ],
            [
             0.6666666666666666,
             "#ed7953"
            ],
            [
             0.7777777777777778,
             "#fb9f3a"
            ],
            [
             0.8888888888888888,
             "#fdca26"
            ],
            [
             1,
             "#f0f921"
            ]
           ],
           "sequentialminus": [
            [
             0,
             "#0d0887"
            ],
            [
             0.1111111111111111,
             "#46039f"
            ],
            [
             0.2222222222222222,
             "#7201a8"
            ],
            [
             0.3333333333333333,
             "#9c179e"
            ],
            [
             0.4444444444444444,
             "#bd3786"
            ],
            [
             0.5555555555555556,
             "#d8576b"
            ],
            [
             0.6666666666666666,
             "#ed7953"
            ],
            [
             0.7777777777777778,
             "#fb9f3a"
            ],
            [
             0.8888888888888888,
             "#fdca26"
            ],
            [
             1,
             "#f0f921"
            ]
           ]
          },
          "colorway": [
           "#636efa",
           "#EF553B",
           "#00cc96",
           "#ab63fa",
           "#FFA15A",
           "#19d3f3",
           "#FF6692",
           "#B6E880",
           "#FF97FF",
           "#FECB52"
          ],
          "font": {
           "color": "#2a3f5f"
          },
          "geo": {
           "bgcolor": "white",
           "lakecolor": "white",
           "landcolor": "#E5ECF6",
           "showlakes": true,
           "showland": true,
           "subunitcolor": "white"
          },
          "hoverlabel": {
           "align": "left"
          },
          "hovermode": "closest",
          "mapbox": {
           "style": "light"
          },
          "paper_bgcolor": "white",
          "plot_bgcolor": "#E5ECF6",
          "polar": {
           "angularaxis": {
            "gridcolor": "white",
            "linecolor": "white",
            "ticks": ""
           },
           "bgcolor": "#E5ECF6",
           "radialaxis": {
            "gridcolor": "white",
            "linecolor": "white",
            "ticks": ""
           }
          },
          "scene": {
           "xaxis": {
            "backgroundcolor": "#E5ECF6",
            "gridcolor": "white",
            "gridwidth": 2,
            "linecolor": "white",
            "showbackground": true,
            "ticks": "",
            "zerolinecolor": "white"
           },
           "yaxis": {
            "backgroundcolor": "#E5ECF6",
            "gridcolor": "white",
            "gridwidth": 2,
            "linecolor": "white",
            "showbackground": true,
            "ticks": "",
            "zerolinecolor": "white"
           },
           "zaxis": {
            "backgroundcolor": "#E5ECF6",
            "gridcolor": "white",
            "gridwidth": 2,
            "linecolor": "white",
            "showbackground": true,
            "ticks": "",
            "zerolinecolor": "white"
           }
          },
          "shapedefaults": {
           "line": {
            "color": "#2a3f5f"
           }
          },
          "ternary": {
           "aaxis": {
            "gridcolor": "white",
            "linecolor": "white",
            "ticks": ""
           },
           "baxis": {
            "gridcolor": "white",
            "linecolor": "white",
            "ticks": ""
           },
           "bgcolor": "#E5ECF6",
           "caxis": {
            "gridcolor": "white",
            "linecolor": "white",
            "ticks": ""
           }
          },
          "title": {
           "x": 0.05
          },
          "xaxis": {
           "automargin": true,
           "gridcolor": "white",
           "linecolor": "white",
           "ticks": "",
           "title": {
            "standoff": 15
           },
           "zerolinecolor": "white",
           "zerolinewidth": 2
          },
          "yaxis": {
           "automargin": true,
           "gridcolor": "white",
           "linecolor": "white",
           "ticks": "",
           "title": {
            "standoff": 15
           },
           "zerolinecolor": "white",
           "zerolinewidth": 2
          }
         }
        },
        "title": {
         "text": "Accuracy vs max_leaf_nodes"
        },
        "xaxis": {
         "anchor": "y",
         "domain": [
          0,
          1
         ],
         "title": {
          "text": "max_leaf_nodes"
         }
        },
        "yaxis": {
         "anchor": "x",
         "domain": [
          0,
          1
         ],
         "title": {
          "text": "accuracy"
         }
        }
       }
      }
     },
     "metadata": {},
     "output_type": "display_data"
    },
    {
     "data": {
      "application/vnd.plotly.v1+json": {
       "config": {
        "plotlyServerURL": "https://plot.ly"
       },
       "data": [
        {
         "hovertemplate": "max_depth=%{x}<br>accuracy=%{y}<extra></extra>",
         "legendgroup": "",
         "line": {
          "color": "#636efa",
          "dash": "solid"
         },
         "marker": {
          "symbol": "circle"
         },
         "mode": "lines",
         "name": "",
         "orientation": "v",
         "showlegend": false,
         "type": "scatter",
         "x": [
          2,
          3,
          4,
          5,
          6,
          7,
          8,
          9,
          10,
          17,
          18,
          21,
          26,
          30
         ],
         "xaxis": "x",
         "y": [
          0.8472919460943986,
          0.8626407783526006,
          0.8887356028187605,
          0.8900385344148518,
          0.8981850503502162,
          0.901449830746631,
          0.9001468991505398,
          0.9037310255263886,
          0.9056886163803199,
          0.8945934725681803,
          0.8929669370462626,
          0.895900662110664,
          0.8955664133188564,
          0.8909987013263503
         ],
         "yaxis": "y"
        }
       ],
       "layout": {
        "legend": {
         "tracegroupgap": 0
        },
        "template": {
         "data": {
          "bar": [
           {
            "error_x": {
             "color": "#2a3f5f"
            },
            "error_y": {
             "color": "#2a3f5f"
            },
            "marker": {
             "line": {
              "color": "#E5ECF6",
              "width": 0.5
             },
             "pattern": {
              "fillmode": "overlay",
              "size": 10,
              "solidity": 0.2
             }
            },
            "type": "bar"
           }
          ],
          "barpolar": [
           {
            "marker": {
             "line": {
              "color": "#E5ECF6",
              "width": 0.5
             },
             "pattern": {
              "fillmode": "overlay",
              "size": 10,
              "solidity": 0.2
             }
            },
            "type": "barpolar"
           }
          ],
          "carpet": [
           {
            "aaxis": {
             "endlinecolor": "#2a3f5f",
             "gridcolor": "white",
             "linecolor": "white",
             "minorgridcolor": "white",
             "startlinecolor": "#2a3f5f"
            },
            "baxis": {
             "endlinecolor": "#2a3f5f",
             "gridcolor": "white",
             "linecolor": "white",
             "minorgridcolor": "white",
             "startlinecolor": "#2a3f5f"
            },
            "type": "carpet"
           }
          ],
          "choropleth": [
           {
            "colorbar": {
             "outlinewidth": 0,
             "ticks": ""
            },
            "type": "choropleth"
           }
          ],
          "contour": [
           {
            "colorbar": {
             "outlinewidth": 0,
             "ticks": ""
            },
            "colorscale": [
             [
              0,
              "#0d0887"
             ],
             [
              0.1111111111111111,
              "#46039f"
             ],
             [
              0.2222222222222222,
              "#7201a8"
             ],
             [
              0.3333333333333333,
              "#9c179e"
             ],
             [
              0.4444444444444444,
              "#bd3786"
             ],
             [
              0.5555555555555556,
              "#d8576b"
             ],
             [
              0.6666666666666666,
              "#ed7953"
             ],
             [
              0.7777777777777778,
              "#fb9f3a"
             ],
             [
              0.8888888888888888,
              "#fdca26"
             ],
             [
              1,
              "#f0f921"
             ]
            ],
            "type": "contour"
           }
          ],
          "contourcarpet": [
           {
            "colorbar": {
             "outlinewidth": 0,
             "ticks": ""
            },
            "type": "contourcarpet"
           }
          ],
          "heatmap": [
           {
            "colorbar": {
             "outlinewidth": 0,
             "ticks": ""
            },
            "colorscale": [
             [
              0,
              "#0d0887"
             ],
             [
              0.1111111111111111,
              "#46039f"
             ],
             [
              0.2222222222222222,
              "#7201a8"
             ],
             [
              0.3333333333333333,
              "#9c179e"
             ],
             [
              0.4444444444444444,
              "#bd3786"
             ],
             [
              0.5555555555555556,
              "#d8576b"
             ],
             [
              0.6666666666666666,
              "#ed7953"
             ],
             [
              0.7777777777777778,
              "#fb9f3a"
             ],
             [
              0.8888888888888888,
              "#fdca26"
             ],
             [
              1,
              "#f0f921"
             ]
            ],
            "type": "heatmap"
           }
          ],
          "heatmapgl": [
           {
            "colorbar": {
             "outlinewidth": 0,
             "ticks": ""
            },
            "colorscale": [
             [
              0,
              "#0d0887"
             ],
             [
              0.1111111111111111,
              "#46039f"
             ],
             [
              0.2222222222222222,
              "#7201a8"
             ],
             [
              0.3333333333333333,
              "#9c179e"
             ],
             [
              0.4444444444444444,
              "#bd3786"
             ],
             [
              0.5555555555555556,
              "#d8576b"
             ],
             [
              0.6666666666666666,
              "#ed7953"
             ],
             [
              0.7777777777777778,
              "#fb9f3a"
             ],
             [
              0.8888888888888888,
              "#fdca26"
             ],
             [
              1,
              "#f0f921"
             ]
            ],
            "type": "heatmapgl"
           }
          ],
          "histogram": [
           {
            "marker": {
             "pattern": {
              "fillmode": "overlay",
              "size": 10,
              "solidity": 0.2
             }
            },
            "type": "histogram"
           }
          ],
          "histogram2d": [
           {
            "colorbar": {
             "outlinewidth": 0,
             "ticks": ""
            },
            "colorscale": [
             [
              0,
              "#0d0887"
             ],
             [
              0.1111111111111111,
              "#46039f"
             ],
             [
              0.2222222222222222,
              "#7201a8"
             ],
             [
              0.3333333333333333,
              "#9c179e"
             ],
             [
              0.4444444444444444,
              "#bd3786"
             ],
             [
              0.5555555555555556,
              "#d8576b"
             ],
             [
              0.6666666666666666,
              "#ed7953"
             ],
             [
              0.7777777777777778,
              "#fb9f3a"
             ],
             [
              0.8888888888888888,
              "#fdca26"
             ],
             [
              1,
              "#f0f921"
             ]
            ],
            "type": "histogram2d"
           }
          ],
          "histogram2dcontour": [
           {
            "colorbar": {
             "outlinewidth": 0,
             "ticks": ""
            },
            "colorscale": [
             [
              0,
              "#0d0887"
             ],
             [
              0.1111111111111111,
              "#46039f"
             ],
             [
              0.2222222222222222,
              "#7201a8"
             ],
             [
              0.3333333333333333,
              "#9c179e"
             ],
             [
              0.4444444444444444,
              "#bd3786"
             ],
             [
              0.5555555555555556,
              "#d8576b"
             ],
             [
              0.6666666666666666,
              "#ed7953"
             ],
             [
              0.7777777777777778,
              "#fb9f3a"
             ],
             [
              0.8888888888888888,
              "#fdca26"
             ],
             [
              1,
              "#f0f921"
             ]
            ],
            "type": "histogram2dcontour"
           }
          ],
          "mesh3d": [
           {
            "colorbar": {
             "outlinewidth": 0,
             "ticks": ""
            },
            "type": "mesh3d"
           }
          ],
          "parcoords": [
           {
            "line": {
             "colorbar": {
              "outlinewidth": 0,
              "ticks": ""
             }
            },
            "type": "parcoords"
           }
          ],
          "pie": [
           {
            "automargin": true,
            "type": "pie"
           }
          ],
          "scatter": [
           {
            "fillpattern": {
             "fillmode": "overlay",
             "size": 10,
             "solidity": 0.2
            },
            "type": "scatter"
           }
          ],
          "scatter3d": [
           {
            "line": {
             "colorbar": {
              "outlinewidth": 0,
              "ticks": ""
             }
            },
            "marker": {
             "colorbar": {
              "outlinewidth": 0,
              "ticks": ""
             }
            },
            "type": "scatter3d"
           }
          ],
          "scattercarpet": [
           {
            "marker": {
             "colorbar": {
              "outlinewidth": 0,
              "ticks": ""
             }
            },
            "type": "scattercarpet"
           }
          ],
          "scattergeo": [
           {
            "marker": {
             "colorbar": {
              "outlinewidth": 0,
              "ticks": ""
             }
            },
            "type": "scattergeo"
           }
          ],
          "scattergl": [
           {
            "marker": {
             "colorbar": {
              "outlinewidth": 0,
              "ticks": ""
             }
            },
            "type": "scattergl"
           }
          ],
          "scattermapbox": [
           {
            "marker": {
             "colorbar": {
              "outlinewidth": 0,
              "ticks": ""
             }
            },
            "type": "scattermapbox"
           }
          ],
          "scatterpolar": [
           {
            "marker": {
             "colorbar": {
              "outlinewidth": 0,
              "ticks": ""
             }
            },
            "type": "scatterpolar"
           }
          ],
          "scatterpolargl": [
           {
            "marker": {
             "colorbar": {
              "outlinewidth": 0,
              "ticks": ""
             }
            },
            "type": "scatterpolargl"
           }
          ],
          "scatterternary": [
           {
            "marker": {
             "colorbar": {
              "outlinewidth": 0,
              "ticks": ""
             }
            },
            "type": "scatterternary"
           }
          ],
          "surface": [
           {
            "colorbar": {
             "outlinewidth": 0,
             "ticks": ""
            },
            "colorscale": [
             [
              0,
              "#0d0887"
             ],
             [
              0.1111111111111111,
              "#46039f"
             ],
             [
              0.2222222222222222,
              "#7201a8"
             ],
             [
              0.3333333333333333,
              "#9c179e"
             ],
             [
              0.4444444444444444,
              "#bd3786"
             ],
             [
              0.5555555555555556,
              "#d8576b"
             ],
             [
              0.6666666666666666,
              "#ed7953"
             ],
             [
              0.7777777777777778,
              "#fb9f3a"
             ],
             [
              0.8888888888888888,
              "#fdca26"
             ],
             [
              1,
              "#f0f921"
             ]
            ],
            "type": "surface"
           }
          ],
          "table": [
           {
            "cells": {
             "fill": {
              "color": "#EBF0F8"
             },
             "line": {
              "color": "white"
             }
            },
            "header": {
             "fill": {
              "color": "#C8D4E3"
             },
             "line": {
              "color": "white"
             }
            },
            "type": "table"
           }
          ]
         },
         "layout": {
          "annotationdefaults": {
           "arrowcolor": "#2a3f5f",
           "arrowhead": 0,
           "arrowwidth": 1
          },
          "autotypenumbers": "strict",
          "coloraxis": {
           "colorbar": {
            "outlinewidth": 0,
            "ticks": ""
           }
          },
          "colorscale": {
           "diverging": [
            [
             0,
             "#8e0152"
            ],
            [
             0.1,
             "#c51b7d"
            ],
            [
             0.2,
             "#de77ae"
            ],
            [
             0.3,
             "#f1b6da"
            ],
            [
             0.4,
             "#fde0ef"
            ],
            [
             0.5,
             "#f7f7f7"
            ],
            [
             0.6,
             "#e6f5d0"
            ],
            [
             0.7,
             "#b8e186"
            ],
            [
             0.8,
             "#7fbc41"
            ],
            [
             0.9,
             "#4d9221"
            ],
            [
             1,
             "#276419"
            ]
           ],
           "sequential": [
            [
             0,
             "#0d0887"
            ],
            [
             0.1111111111111111,
             "#46039f"
            ],
            [
             0.2222222222222222,
             "#7201a8"
            ],
            [
             0.3333333333333333,
             "#9c179e"
            ],
            [
             0.4444444444444444,
             "#bd3786"
            ],
            [
             0.5555555555555556,
             "#d8576b"
            ],
            [
             0.6666666666666666,
             "#ed7953"
            ],
            [
             0.7777777777777778,
             "#fb9f3a"
            ],
            [
             0.8888888888888888,
             "#fdca26"
            ],
            [
             1,
             "#f0f921"
            ]
           ],
           "sequentialminus": [
            [
             0,
             "#0d0887"
            ],
            [
             0.1111111111111111,
             "#46039f"
            ],
            [
             0.2222222222222222,
             "#7201a8"
            ],
            [
             0.3333333333333333,
             "#9c179e"
            ],
            [
             0.4444444444444444,
             "#bd3786"
            ],
            [
             0.5555555555555556,
             "#d8576b"
            ],
            [
             0.6666666666666666,
             "#ed7953"
            ],
            [
             0.7777777777777778,
             "#fb9f3a"
            ],
            [
             0.8888888888888888,
             "#fdca26"
            ],
            [
             1,
             "#f0f921"
            ]
           ]
          },
          "colorway": [
           "#636efa",
           "#EF553B",
           "#00cc96",
           "#ab63fa",
           "#FFA15A",
           "#19d3f3",
           "#FF6692",
           "#B6E880",
           "#FF97FF",
           "#FECB52"
          ],
          "font": {
           "color": "#2a3f5f"
          },
          "geo": {
           "bgcolor": "white",
           "lakecolor": "white",
           "landcolor": "#E5ECF6",
           "showlakes": true,
           "showland": true,
           "subunitcolor": "white"
          },
          "hoverlabel": {
           "align": "left"
          },
          "hovermode": "closest",
          "mapbox": {
           "style": "light"
          },
          "paper_bgcolor": "white",
          "plot_bgcolor": "#E5ECF6",
          "polar": {
           "angularaxis": {
            "gridcolor": "white",
            "linecolor": "white",
            "ticks": ""
           },
           "bgcolor": "#E5ECF6",
           "radialaxis": {
            "gridcolor": "white",
            "linecolor": "white",
            "ticks": ""
           }
          },
          "scene": {
           "xaxis": {
            "backgroundcolor": "#E5ECF6",
            "gridcolor": "white",
            "gridwidth": 2,
            "linecolor": "white",
            "showbackground": true,
            "ticks": "",
            "zerolinecolor": "white"
           },
           "yaxis": {
            "backgroundcolor": "#E5ECF6",
            "gridcolor": "white",
            "gridwidth": 2,
            "linecolor": "white",
            "showbackground": true,
            "ticks": "",
            "zerolinecolor": "white"
           },
           "zaxis": {
            "backgroundcolor": "#E5ECF6",
            "gridcolor": "white",
            "gridwidth": 2,
            "linecolor": "white",
            "showbackground": true,
            "ticks": "",
            "zerolinecolor": "white"
           }
          },
          "shapedefaults": {
           "line": {
            "color": "#2a3f5f"
           }
          },
          "ternary": {
           "aaxis": {
            "gridcolor": "white",
            "linecolor": "white",
            "ticks": ""
           },
           "baxis": {
            "gridcolor": "white",
            "linecolor": "white",
            "ticks": ""
           },
           "bgcolor": "#E5ECF6",
           "caxis": {
            "gridcolor": "white",
            "linecolor": "white",
            "ticks": ""
           }
          },
          "title": {
           "x": 0.05
          },
          "xaxis": {
           "automargin": true,
           "gridcolor": "white",
           "linecolor": "white",
           "ticks": "",
           "title": {
            "standoff": 15
           },
           "zerolinecolor": "white",
           "zerolinewidth": 2
          },
          "yaxis": {
           "automargin": true,
           "gridcolor": "white",
           "linecolor": "white",
           "ticks": "",
           "title": {
            "standoff": 15
           },
           "zerolinecolor": "white",
           "zerolinewidth": 2
          }
         }
        },
        "title": {
         "text": "Accuracy vs max_depth"
        },
        "xaxis": {
         "anchor": "y",
         "domain": [
          0,
          1
         ],
         "title": {
          "text": "max_depth"
         }
        },
        "yaxis": {
         "anchor": "x",
         "domain": [
          0,
          1
         ],
         "title": {
          "text": "accuracy"
         }
        }
       }
      }
     },
     "metadata": {},
     "output_type": "display_data"
    }
   ],
   "source": [
    "# fit X_train, y_train with DecisionTree, cross-validate the max_leaf_nodes\n",
    "from sklearn.model_selection import cross_val_score\n",
    "import numpy as np\n",
    "max_leaf_nodes = [2, 3, 4, 5, 6, 7, 8, 9, 10, 17, 18, 21, 26, 30, 33, 37, 42]\n",
    "cv_scores = []\n",
    "test_scores = []\n",
    "for leaf in max_leaf_nodes:\n",
    "    tree = DecisionTreeClassifier(random_state=101, max_leaf_nodes=leaf)\n",
    "    scores = cross_val_score(tree, X_train, y_train, cv=10, scoring='accuracy')\n",
    "    cv_scores.append(scores.mean())\n",
    "    \n",
    "# plot the accuracies with plotly express\n",
    "import plotly.express as px\n",
    "dfPlot = pd.DataFrame({'max_leaf_nodes': max_leaf_nodes, 'accuracy': cv_scores})\n",
    "fig = px.line(dfPlot, x='max_leaf_nodes', y='accuracy', title='Accuracy vs max_leaf_nodes')\n",
    "fig.show()\n",
    "\n",
    "# fit X_train, y_train with DecisionTree, cross-validate the tree depth\n",
    "from sklearn.model_selection import cross_val_score\n",
    "import numpy as np\n",
    "max_depth = [2, 3, 4, 5, 6, 7, 8, 9, 10, 17, 18, 21, 26, 30]\n",
    "cv_scores = []\n",
    "test_scores = []\n",
    "for depth in max_depth:\n",
    "    tree = DecisionTreeClassifier(random_state=101, max_depth=depth)\n",
    "    scores = cross_val_score(tree, X_train, y_train, cv=10, scoring='accuracy')\n",
    "    cv_scores.append(scores.mean())\n",
    "\n",
    "# plot the accuracies with plotly express\n",
    "import plotly.express as px\n",
    "dfPlot = pd.DataFrame({'max_depth': max_depth, 'accuracy': cv_scores})\n",
    "fig = px.line(dfPlot, x='max_depth', y='accuracy', title='Accuracy vs max_depth')\n",
    "fig.show()\n"
   ]
  },
  {
   "cell_type": "markdown",
   "metadata": {},
   "source": [
    "### Gradient Boosting Tree (GBT)"
   ]
  },
  {
   "cell_type": "code",
   "execution_count": 58,
   "metadata": {},
   "outputs": [
    {
     "name": "stdout",
     "output_type": "stream",
     "text": [
      "Accuracy: 0.9518\n"
     ]
    }
   ],
   "source": [
    "# fit X_train, y_train with GradientBoostingClassifier\n",
    "from sklearn.ensemble import GradientBoostingClassifier\n",
    "gb = GradientBoostingClassifier(n_estimators=500, random_state=101)\n",
    "gb.fit(X_train, y_train)\n",
    "\n",
    "y_gb = gb.predict(X_test)\n",
    "accuracy = accuracy_score(y_test, y_gb)\n",
    "print(f\"Accuracy: {accuracy:.4f}\")"
   ]
  },
  {
   "cell_type": "code",
   "execution_count": 56,
   "metadata": {},
   "outputs": [
    {
     "name": "stdout",
     "output_type": "stream",
     "text": [
      "n_estimators: 50\n",
      "n_estimators: 100\n",
      "n_estimators: 200\n",
      "n_estimators: 400\n"
     ]
    },
    {
     "data": {
      "application/vnd.plotly.v1+json": {
       "config": {
        "plotlyServerURL": "https://plot.ly"
       },
       "data": [
        {
         "hovertemplate": "n_estimators=%{x}<br>cv_scores=%{y}<extra></extra>",
         "legendgroup": "",
         "line": {
          "color": "#636efa",
          "dash": "solid"
         },
         "marker": {
          "symbol": "circle"
         },
         "mode": "lines",
         "name": "",
         "orientation": "v",
         "showlegend": false,
         "type": "scatter",
         "x": [
          50,
          100,
          200,
          400
         ],
         "xaxis": "x",
         "y": [
          0.9324487449703008,
          0.9379915266866791,
          0.941903514934747,
          0.9405973898788614
         ],
         "yaxis": "y"
        },
        {
         "mode": "lines",
         "name": "Test Accuracy",
         "type": "scatter",
         "x": [
          50,
          100,
          200,
          400
         ],
         "y": [
          0.9388020833333334,
          0.947265625,
          0.9485677083333334,
          0.9518229166666666
         ]
        }
       ],
       "layout": {
        "legend": {
         "tracegroupgap": 0
        },
        "template": {
         "data": {
          "bar": [
           {
            "error_x": {
             "color": "#2a3f5f"
            },
            "error_y": {
             "color": "#2a3f5f"
            },
            "marker": {
             "line": {
              "color": "#E5ECF6",
              "width": 0.5
             },
             "pattern": {
              "fillmode": "overlay",
              "size": 10,
              "solidity": 0.2
             }
            },
            "type": "bar"
           }
          ],
          "barpolar": [
           {
            "marker": {
             "line": {
              "color": "#E5ECF6",
              "width": 0.5
             },
             "pattern": {
              "fillmode": "overlay",
              "size": 10,
              "solidity": 0.2
             }
            },
            "type": "barpolar"
           }
          ],
          "carpet": [
           {
            "aaxis": {
             "endlinecolor": "#2a3f5f",
             "gridcolor": "white",
             "linecolor": "white",
             "minorgridcolor": "white",
             "startlinecolor": "#2a3f5f"
            },
            "baxis": {
             "endlinecolor": "#2a3f5f",
             "gridcolor": "white",
             "linecolor": "white",
             "minorgridcolor": "white",
             "startlinecolor": "#2a3f5f"
            },
            "type": "carpet"
           }
          ],
          "choropleth": [
           {
            "colorbar": {
             "outlinewidth": 0,
             "ticks": ""
            },
            "type": "choropleth"
           }
          ],
          "contour": [
           {
            "colorbar": {
             "outlinewidth": 0,
             "ticks": ""
            },
            "colorscale": [
             [
              0,
              "#0d0887"
             ],
             [
              0.1111111111111111,
              "#46039f"
             ],
             [
              0.2222222222222222,
              "#7201a8"
             ],
             [
              0.3333333333333333,
              "#9c179e"
             ],
             [
              0.4444444444444444,
              "#bd3786"
             ],
             [
              0.5555555555555556,
              "#d8576b"
             ],
             [
              0.6666666666666666,
              "#ed7953"
             ],
             [
              0.7777777777777778,
              "#fb9f3a"
             ],
             [
              0.8888888888888888,
              "#fdca26"
             ],
             [
              1,
              "#f0f921"
             ]
            ],
            "type": "contour"
           }
          ],
          "contourcarpet": [
           {
            "colorbar": {
             "outlinewidth": 0,
             "ticks": ""
            },
            "type": "contourcarpet"
           }
          ],
          "heatmap": [
           {
            "colorbar": {
             "outlinewidth": 0,
             "ticks": ""
            },
            "colorscale": [
             [
              0,
              "#0d0887"
             ],
             [
              0.1111111111111111,
              "#46039f"
             ],
             [
              0.2222222222222222,
              "#7201a8"
             ],
             [
              0.3333333333333333,
              "#9c179e"
             ],
             [
              0.4444444444444444,
              "#bd3786"
             ],
             [
              0.5555555555555556,
              "#d8576b"
             ],
             [
              0.6666666666666666,
              "#ed7953"
             ],
             [
              0.7777777777777778,
              "#fb9f3a"
             ],
             [
              0.8888888888888888,
              "#fdca26"
             ],
             [
              1,
              "#f0f921"
             ]
            ],
            "type": "heatmap"
           }
          ],
          "heatmapgl": [
           {
            "colorbar": {
             "outlinewidth": 0,
             "ticks": ""
            },
            "colorscale": [
             [
              0,
              "#0d0887"
             ],
             [
              0.1111111111111111,
              "#46039f"
             ],
             [
              0.2222222222222222,
              "#7201a8"
             ],
             [
              0.3333333333333333,
              "#9c179e"
             ],
             [
              0.4444444444444444,
              "#bd3786"
             ],
             [
              0.5555555555555556,
              "#d8576b"
             ],
             [
              0.6666666666666666,
              "#ed7953"
             ],
             [
              0.7777777777777778,
              "#fb9f3a"
             ],
             [
              0.8888888888888888,
              "#fdca26"
             ],
             [
              1,
              "#f0f921"
             ]
            ],
            "type": "heatmapgl"
           }
          ],
          "histogram": [
           {
            "marker": {
             "pattern": {
              "fillmode": "overlay",
              "size": 10,
              "solidity": 0.2
             }
            },
            "type": "histogram"
           }
          ],
          "histogram2d": [
           {
            "colorbar": {
             "outlinewidth": 0,
             "ticks": ""
            },
            "colorscale": [
             [
              0,
              "#0d0887"
             ],
             [
              0.1111111111111111,
              "#46039f"
             ],
             [
              0.2222222222222222,
              "#7201a8"
             ],
             [
              0.3333333333333333,
              "#9c179e"
             ],
             [
              0.4444444444444444,
              "#bd3786"
             ],
             [
              0.5555555555555556,
              "#d8576b"
             ],
             [
              0.6666666666666666,
              "#ed7953"
             ],
             [
              0.7777777777777778,
              "#fb9f3a"
             ],
             [
              0.8888888888888888,
              "#fdca26"
             ],
             [
              1,
              "#f0f921"
             ]
            ],
            "type": "histogram2d"
           }
          ],
          "histogram2dcontour": [
           {
            "colorbar": {
             "outlinewidth": 0,
             "ticks": ""
            },
            "colorscale": [
             [
              0,
              "#0d0887"
             ],
             [
              0.1111111111111111,
              "#46039f"
             ],
             [
              0.2222222222222222,
              "#7201a8"
             ],
             [
              0.3333333333333333,
              "#9c179e"
             ],
             [
              0.4444444444444444,
              "#bd3786"
             ],
             [
              0.5555555555555556,
              "#d8576b"
             ],
             [
              0.6666666666666666,
              "#ed7953"
             ],
             [
              0.7777777777777778,
              "#fb9f3a"
             ],
             [
              0.8888888888888888,
              "#fdca26"
             ],
             [
              1,
              "#f0f921"
             ]
            ],
            "type": "histogram2dcontour"
           }
          ],
          "mesh3d": [
           {
            "colorbar": {
             "outlinewidth": 0,
             "ticks": ""
            },
            "type": "mesh3d"
           }
          ],
          "parcoords": [
           {
            "line": {
             "colorbar": {
              "outlinewidth": 0,
              "ticks": ""
             }
            },
            "type": "parcoords"
           }
          ],
          "pie": [
           {
            "automargin": true,
            "type": "pie"
           }
          ],
          "scatter": [
           {
            "fillpattern": {
             "fillmode": "overlay",
             "size": 10,
             "solidity": 0.2
            },
            "type": "scatter"
           }
          ],
          "scatter3d": [
           {
            "line": {
             "colorbar": {
              "outlinewidth": 0,
              "ticks": ""
             }
            },
            "marker": {
             "colorbar": {
              "outlinewidth": 0,
              "ticks": ""
             }
            },
            "type": "scatter3d"
           }
          ],
          "scattercarpet": [
           {
            "marker": {
             "colorbar": {
              "outlinewidth": 0,
              "ticks": ""
             }
            },
            "type": "scattercarpet"
           }
          ],
          "scattergeo": [
           {
            "marker": {
             "colorbar": {
              "outlinewidth": 0,
              "ticks": ""
             }
            },
            "type": "scattergeo"
           }
          ],
          "scattergl": [
           {
            "marker": {
             "colorbar": {
              "outlinewidth": 0,
              "ticks": ""
             }
            },
            "type": "scattergl"
           }
          ],
          "scattermapbox": [
           {
            "marker": {
             "colorbar": {
              "outlinewidth": 0,
              "ticks": ""
             }
            },
            "type": "scattermapbox"
           }
          ],
          "scatterpolar": [
           {
            "marker": {
             "colorbar": {
              "outlinewidth": 0,
              "ticks": ""
             }
            },
            "type": "scatterpolar"
           }
          ],
          "scatterpolargl": [
           {
            "marker": {
             "colorbar": {
              "outlinewidth": 0,
              "ticks": ""
             }
            },
            "type": "scatterpolargl"
           }
          ],
          "scatterternary": [
           {
            "marker": {
             "colorbar": {
              "outlinewidth": 0,
              "ticks": ""
             }
            },
            "type": "scatterternary"
           }
          ],
          "surface": [
           {
            "colorbar": {
             "outlinewidth": 0,
             "ticks": ""
            },
            "colorscale": [
             [
              0,
              "#0d0887"
             ],
             [
              0.1111111111111111,
              "#46039f"
             ],
             [
              0.2222222222222222,
              "#7201a8"
             ],
             [
              0.3333333333333333,
              "#9c179e"
             ],
             [
              0.4444444444444444,
              "#bd3786"
             ],
             [
              0.5555555555555556,
              "#d8576b"
             ],
             [
              0.6666666666666666,
              "#ed7953"
             ],
             [
              0.7777777777777778,
              "#fb9f3a"
             ],
             [
              0.8888888888888888,
              "#fdca26"
             ],
             [
              1,
              "#f0f921"
             ]
            ],
            "type": "surface"
           }
          ],
          "table": [
           {
            "cells": {
             "fill": {
              "color": "#EBF0F8"
             },
             "line": {
              "color": "white"
             }
            },
            "header": {
             "fill": {
              "color": "#C8D4E3"
             },
             "line": {
              "color": "white"
             }
            },
            "type": "table"
           }
          ]
         },
         "layout": {
          "annotationdefaults": {
           "arrowcolor": "#2a3f5f",
           "arrowhead": 0,
           "arrowwidth": 1
          },
          "autotypenumbers": "strict",
          "coloraxis": {
           "colorbar": {
            "outlinewidth": 0,
            "ticks": ""
           }
          },
          "colorscale": {
           "diverging": [
            [
             0,
             "#8e0152"
            ],
            [
             0.1,
             "#c51b7d"
            ],
            [
             0.2,
             "#de77ae"
            ],
            [
             0.3,
             "#f1b6da"
            ],
            [
             0.4,
             "#fde0ef"
            ],
            [
             0.5,
             "#f7f7f7"
            ],
            [
             0.6,
             "#e6f5d0"
            ],
            [
             0.7,
             "#b8e186"
            ],
            [
             0.8,
             "#7fbc41"
            ],
            [
             0.9,
             "#4d9221"
            ],
            [
             1,
             "#276419"
            ]
           ],
           "sequential": [
            [
             0,
             "#0d0887"
            ],
            [
             0.1111111111111111,
             "#46039f"
            ],
            [
             0.2222222222222222,
             "#7201a8"
            ],
            [
             0.3333333333333333,
             "#9c179e"
            ],
            [
             0.4444444444444444,
             "#bd3786"
            ],
            [
             0.5555555555555556,
             "#d8576b"
            ],
            [
             0.6666666666666666,
             "#ed7953"
            ],
            [
             0.7777777777777778,
             "#fb9f3a"
            ],
            [
             0.8888888888888888,
             "#fdca26"
            ],
            [
             1,
             "#f0f921"
            ]
           ],
           "sequentialminus": [
            [
             0,
             "#0d0887"
            ],
            [
             0.1111111111111111,
             "#46039f"
            ],
            [
             0.2222222222222222,
             "#7201a8"
            ],
            [
             0.3333333333333333,
             "#9c179e"
            ],
            [
             0.4444444444444444,
             "#bd3786"
            ],
            [
             0.5555555555555556,
             "#d8576b"
            ],
            [
             0.6666666666666666,
             "#ed7953"
            ],
            [
             0.7777777777777778,
             "#fb9f3a"
            ],
            [
             0.8888888888888888,
             "#fdca26"
            ],
            [
             1,
             "#f0f921"
            ]
           ]
          },
          "colorway": [
           "#636efa",
           "#EF553B",
           "#00cc96",
           "#ab63fa",
           "#FFA15A",
           "#19d3f3",
           "#FF6692",
           "#B6E880",
           "#FF97FF",
           "#FECB52"
          ],
          "font": {
           "color": "#2a3f5f"
          },
          "geo": {
           "bgcolor": "white",
           "lakecolor": "white",
           "landcolor": "#E5ECF6",
           "showlakes": true,
           "showland": true,
           "subunitcolor": "white"
          },
          "hoverlabel": {
           "align": "left"
          },
          "hovermode": "closest",
          "mapbox": {
           "style": "light"
          },
          "paper_bgcolor": "white",
          "plot_bgcolor": "#E5ECF6",
          "polar": {
           "angularaxis": {
            "gridcolor": "white",
            "linecolor": "white",
            "ticks": ""
           },
           "bgcolor": "#E5ECF6",
           "radialaxis": {
            "gridcolor": "white",
            "linecolor": "white",
            "ticks": ""
           }
          },
          "scene": {
           "xaxis": {
            "backgroundcolor": "#E5ECF6",
            "gridcolor": "white",
            "gridwidth": 2,
            "linecolor": "white",
            "showbackground": true,
            "ticks": "",
            "zerolinecolor": "white"
           },
           "yaxis": {
            "backgroundcolor": "#E5ECF6",
            "gridcolor": "white",
            "gridwidth": 2,
            "linecolor": "white",
            "showbackground": true,
            "ticks": "",
            "zerolinecolor": "white"
           },
           "zaxis": {
            "backgroundcolor": "#E5ECF6",
            "gridcolor": "white",
            "gridwidth": 2,
            "linecolor": "white",
            "showbackground": true,
            "ticks": "",
            "zerolinecolor": "white"
           }
          },
          "shapedefaults": {
           "line": {
            "color": "#2a3f5f"
           }
          },
          "ternary": {
           "aaxis": {
            "gridcolor": "white",
            "linecolor": "white",
            "ticks": ""
           },
           "baxis": {
            "gridcolor": "white",
            "linecolor": "white",
            "ticks": ""
           },
           "bgcolor": "#E5ECF6",
           "caxis": {
            "gridcolor": "white",
            "linecolor": "white",
            "ticks": ""
           }
          },
          "title": {
           "x": 0.05
          },
          "xaxis": {
           "automargin": true,
           "gridcolor": "white",
           "linecolor": "white",
           "ticks": "",
           "title": {
            "standoff": 15
           },
           "zerolinecolor": "white",
           "zerolinewidth": 2
          },
          "yaxis": {
           "automargin": true,
           "gridcolor": "white",
           "linecolor": "white",
           "ticks": "",
           "title": {
            "standoff": 15
           },
           "zerolinecolor": "white",
           "zerolinewidth": 2
          }
         }
        },
        "title": {
         "text": "Cross-validated Accuracy vs n_estimators"
        },
        "xaxis": {
         "anchor": "y",
         "domain": [
          0,
          1
         ],
         "title": {
          "text": "n_estimators"
         }
        },
        "yaxis": {
         "anchor": "x",
         "domain": [
          0,
          1
         ],
         "title": {
          "text": "cv_scores"
         }
        }
       }
      }
     },
     "metadata": {},
     "output_type": "display_data"
    }
   ],
   "source": [
    "# cross validate the GradientBoostingClassifier with different n_estimators\n",
    "from sklearn.model_selection import cross_val_score\n",
    "import numpy as np\n",
    "n_estimators = [50, 100, 200, 400]\n",
    "cv_scores = []\n",
    "test_scores = []\n",
    "for n in n_estimators:\n",
    "    print(f\"n_estimators: {n}\")\n",
    "    gb = GradientBoostingClassifier(n_estimators=n, random_state=101)\n",
    "    scores = cross_val_score(gb, X_train, y_train, cv=10, scoring='accuracy')\n",
    "    cv_scores.append(scores.mean())\n",
    "    test_scores.append(accuracy_score(y_test, gb.fit(X_train, y_train).predict(X_test)))\n",
    "\n",
    "# plot the cv_scores and test_scores with graph_objects\n",
    "import plotly.graph_objects as go\n",
    "fig = go.Figure()\n",
    "fig.add_trace(go.Scatter(x=n_estimators, y=cv_scores, mode='lines', name='Cross-validated Accuracy'))\n",
    "fig.add_trace(go.Scatter(x=n_estimators, y=test_scores, mode='lines', name='Test Accuracy'))\n",
    "fig.update_layout(title='Accuracy vs n_estimators', xaxis_title='n_estimators', yaxis_title='Accuracy')\n",
    "fig.show()\n",
    "\n",
    "# cross validate the GradientBoostingClassifier with different learning_rate\n",
    "# from sklearn.model_selection import cross_val_score\n",
    "# import numpy as np\n",
    "# learning_rate = [0.02, 0.04, 0.1, 0.2, 0.4]\n",
    "# cv_scores = []\n",
    "# test_scores = []\n",
    "# for lr in learning_rate:\n",
    "#     print(f\"learning_rate: {lr}\")\n",
    "#     gb = GradientBoostingClassifier(learning_rate=lr, n_estimators=25, random_state=101)\n",
    "#     scores = cross_val_score(gb, X_train, y_train, cv=10, scoring='accuracy')\n",
    "#     cv_scores.append(scores.mean())\n",
    "#     test_scores.append(accuracy_score(y_test, gb.fit(X_train, y_train).predict(X_test)))\n",
    "\n",
    "\n",
    "# # plot the cv_scores and test_scores with graph_objects\n",
    "# import plotly.graph_objects as go\n",
    "# fig = go.Figure()\n",
    "# fig.add_trace(go.Scatter(x=learning_rate, y=cv_scores, mode='lines', name='Cross-validated Accuracy'))\n",
    "# fig.add_trace(go.Scatter(x=learning_rate, y=test_scores, mode='lines', name='Test Accuracy'))\n",
    "# fig.update_layout(title='Accuracy vs learning_rate', xaxis_title='learning_rate', yaxis_title='Accuracy')\n",
    "# fig.show()\n"
   ]
  },
  {
   "cell_type": "code",
   "execution_count": 59,
   "metadata": {},
   "outputs": [
    {
     "name": "stdout",
     "output_type": "stream",
     "text": [
      "Accuracy: 0.9544\n"
     ]
    },
    {
     "data": {
      "application/vnd.plotly.v1+json": {
       "config": {
        "plotlyServerURL": "https://plot.ly"
       },
       "data": [
        {
         "alignmentgroup": "True",
         "hovertemplate": "features=%{x}<br>importances=%{y}<extra></extra>",
         "legendgroup": "",
         "marker": {
          "color": "#636efa",
          "pattern": {
           "shape": ""
          }
         },
         "name": "",
         "offsetgroup": "",
         "orientation": "v",
         "showlegend": false,
         "textposition": "auto",
         "type": "bar",
         "x": [
          "ch$",
          "ch!",
          "remove",
          "hp",
          "CAPAVE",
          "free",
          "george",
          "CAPMAX",
          "edu",
          "CAPTOT",
          "your",
          "our",
          "business",
          "you",
          "re",
          "email",
          "receive",
          "money",
          "meeting",
          "ch(",
          "000",
          "650",
          "internet",
          "will",
          "pm",
          "1999",
          "mail",
          "ch_;",
          "over",
          "font",
          "conference",
          "data",
          "people",
          "hpl",
          "lab",
          "415",
          "make",
          "original",
          "order",
          "report",
          "technology",
          "address",
          "all",
          "3d",
          "ch#",
          "credit",
          "labs",
          "cs",
          "ch[",
          "project",
          "parts",
          "85",
          "telnet",
          "direct",
          "addresses",
          "857",
          "table"
         ],
         "xaxis": "x",
         "y": [
          0.2845843548209347,
          0.15813223642836083,
          0.14502202713884954,
          0.057965076820197865,
          0.04310441331357558,
          0.03697184230658366,
          0.029165579780089757,
          0.028063738087732826,
          0.025279513406988658,
          0.024765613204359434,
          0.020544827359351904,
          0.014879086136273766,
          0.012033983644411115,
          0.009178464508207085,
          0.008146822695484519,
          0.008014426430725556,
          0.00753072977052007,
          0.007247100021096834,
          0.006816412240185857,
          0.006492077858642095,
          0.0062353848289389375,
          0.00549267470205334,
          0.005366228049589366,
          0.005329577522739365,
          0.004907687117174281,
          0.004564021817507527,
          0.0030757982951143768,
          0.002881839869551084,
          0.0028019300377040784,
          0.0024868602648014408,
          0.0020713547846693764,
          0.0019712329867656,
          0.0018189803878633126,
          0.0017040925167704443,
          0.0016951998422288302,
          0.0014877955128386737,
          0.001426429484199304,
          0.0012389413485524338,
          0.001173581072630727,
          0.000983564499100874,
          0.0008989409798946744,
          0.0008986577275468244,
          0.0008950213735155449,
          0.0008682630409773836,
          0.0006817915798572906,
          0.0006139545267694994,
          0.0005996646348755305,
          0.0005902670509985882,
          0.00027022009917854737,
          0.00020493526678332802,
          0.00018753083134194146,
          0.00018739991833606557,
          0.00015704444978817191,
          0.0001383662018097515,
          0.0001376174422039958,
          0.00001733678651702229,
          0.0000014871762407371555
         ],
         "yaxis": "y"
        }
       ],
       "layout": {
        "barmode": "relative",
        "legend": {
         "tracegroupgap": 0
        },
        "template": {
         "data": {
          "bar": [
           {
            "error_x": {
             "color": "#2a3f5f"
            },
            "error_y": {
             "color": "#2a3f5f"
            },
            "marker": {
             "line": {
              "color": "#E5ECF6",
              "width": 0.5
             },
             "pattern": {
              "fillmode": "overlay",
              "size": 10,
              "solidity": 0.2
             }
            },
            "type": "bar"
           }
          ],
          "barpolar": [
           {
            "marker": {
             "line": {
              "color": "#E5ECF6",
              "width": 0.5
             },
             "pattern": {
              "fillmode": "overlay",
              "size": 10,
              "solidity": 0.2
             }
            },
            "type": "barpolar"
           }
          ],
          "carpet": [
           {
            "aaxis": {
             "endlinecolor": "#2a3f5f",
             "gridcolor": "white",
             "linecolor": "white",
             "minorgridcolor": "white",
             "startlinecolor": "#2a3f5f"
            },
            "baxis": {
             "endlinecolor": "#2a3f5f",
             "gridcolor": "white",
             "linecolor": "white",
             "minorgridcolor": "white",
             "startlinecolor": "#2a3f5f"
            },
            "type": "carpet"
           }
          ],
          "choropleth": [
           {
            "colorbar": {
             "outlinewidth": 0,
             "ticks": ""
            },
            "type": "choropleth"
           }
          ],
          "contour": [
           {
            "colorbar": {
             "outlinewidth": 0,
             "ticks": ""
            },
            "colorscale": [
             [
              0,
              "#0d0887"
             ],
             [
              0.1111111111111111,
              "#46039f"
             ],
             [
              0.2222222222222222,
              "#7201a8"
             ],
             [
              0.3333333333333333,
              "#9c179e"
             ],
             [
              0.4444444444444444,
              "#bd3786"
             ],
             [
              0.5555555555555556,
              "#d8576b"
             ],
             [
              0.6666666666666666,
              "#ed7953"
             ],
             [
              0.7777777777777778,
              "#fb9f3a"
             ],
             [
              0.8888888888888888,
              "#fdca26"
             ],
             [
              1,
              "#f0f921"
             ]
            ],
            "type": "contour"
           }
          ],
          "contourcarpet": [
           {
            "colorbar": {
             "outlinewidth": 0,
             "ticks": ""
            },
            "type": "contourcarpet"
           }
          ],
          "heatmap": [
           {
            "colorbar": {
             "outlinewidth": 0,
             "ticks": ""
            },
            "colorscale": [
             [
              0,
              "#0d0887"
             ],
             [
              0.1111111111111111,
              "#46039f"
             ],
             [
              0.2222222222222222,
              "#7201a8"
             ],
             [
              0.3333333333333333,
              "#9c179e"
             ],
             [
              0.4444444444444444,
              "#bd3786"
             ],
             [
              0.5555555555555556,
              "#d8576b"
             ],
             [
              0.6666666666666666,
              "#ed7953"
             ],
             [
              0.7777777777777778,
              "#fb9f3a"
             ],
             [
              0.8888888888888888,
              "#fdca26"
             ],
             [
              1,
              "#f0f921"
             ]
            ],
            "type": "heatmap"
           }
          ],
          "heatmapgl": [
           {
            "colorbar": {
             "outlinewidth": 0,
             "ticks": ""
            },
            "colorscale": [
             [
              0,
              "#0d0887"
             ],
             [
              0.1111111111111111,
              "#46039f"
             ],
             [
              0.2222222222222222,
              "#7201a8"
             ],
             [
              0.3333333333333333,
              "#9c179e"
             ],
             [
              0.4444444444444444,
              "#bd3786"
             ],
             [
              0.5555555555555556,
              "#d8576b"
             ],
             [
              0.6666666666666666,
              "#ed7953"
             ],
             [
              0.7777777777777778,
              "#fb9f3a"
             ],
             [
              0.8888888888888888,
              "#fdca26"
             ],
             [
              1,
              "#f0f921"
             ]
            ],
            "type": "heatmapgl"
           }
          ],
          "histogram": [
           {
            "marker": {
             "pattern": {
              "fillmode": "overlay",
              "size": 10,
              "solidity": 0.2
             }
            },
            "type": "histogram"
           }
          ],
          "histogram2d": [
           {
            "colorbar": {
             "outlinewidth": 0,
             "ticks": ""
            },
            "colorscale": [
             [
              0,
              "#0d0887"
             ],
             [
              0.1111111111111111,
              "#46039f"
             ],
             [
              0.2222222222222222,
              "#7201a8"
             ],
             [
              0.3333333333333333,
              "#9c179e"
             ],
             [
              0.4444444444444444,
              "#bd3786"
             ],
             [
              0.5555555555555556,
              "#d8576b"
             ],
             [
              0.6666666666666666,
              "#ed7953"
             ],
             [
              0.7777777777777778,
              "#fb9f3a"
             ],
             [
              0.8888888888888888,
              "#fdca26"
             ],
             [
              1,
              "#f0f921"
             ]
            ],
            "type": "histogram2d"
           }
          ],
          "histogram2dcontour": [
           {
            "colorbar": {
             "outlinewidth": 0,
             "ticks": ""
            },
            "colorscale": [
             [
              0,
              "#0d0887"
             ],
             [
              0.1111111111111111,
              "#46039f"
             ],
             [
              0.2222222222222222,
              "#7201a8"
             ],
             [
              0.3333333333333333,
              "#9c179e"
             ],
             [
              0.4444444444444444,
              "#bd3786"
             ],
             [
              0.5555555555555556,
              "#d8576b"
             ],
             [
              0.6666666666666666,
              "#ed7953"
             ],
             [
              0.7777777777777778,
              "#fb9f3a"
             ],
             [
              0.8888888888888888,
              "#fdca26"
             ],
             [
              1,
              "#f0f921"
             ]
            ],
            "type": "histogram2dcontour"
           }
          ],
          "mesh3d": [
           {
            "colorbar": {
             "outlinewidth": 0,
             "ticks": ""
            },
            "type": "mesh3d"
           }
          ],
          "parcoords": [
           {
            "line": {
             "colorbar": {
              "outlinewidth": 0,
              "ticks": ""
             }
            },
            "type": "parcoords"
           }
          ],
          "pie": [
           {
            "automargin": true,
            "type": "pie"
           }
          ],
          "scatter": [
           {
            "fillpattern": {
             "fillmode": "overlay",
             "size": 10,
             "solidity": 0.2
            },
            "type": "scatter"
           }
          ],
          "scatter3d": [
           {
            "line": {
             "colorbar": {
              "outlinewidth": 0,
              "ticks": ""
             }
            },
            "marker": {
             "colorbar": {
              "outlinewidth": 0,
              "ticks": ""
             }
            },
            "type": "scatter3d"
           }
          ],
          "scattercarpet": [
           {
            "marker": {
             "colorbar": {
              "outlinewidth": 0,
              "ticks": ""
             }
            },
            "type": "scattercarpet"
           }
          ],
          "scattergeo": [
           {
            "marker": {
             "colorbar": {
              "outlinewidth": 0,
              "ticks": ""
             }
            },
            "type": "scattergeo"
           }
          ],
          "scattergl": [
           {
            "marker": {
             "colorbar": {
              "outlinewidth": 0,
              "ticks": ""
             }
            },
            "type": "scattergl"
           }
          ],
          "scattermapbox": [
           {
            "marker": {
             "colorbar": {
              "outlinewidth": 0,
              "ticks": ""
             }
            },
            "type": "scattermapbox"
           }
          ],
          "scatterpolar": [
           {
            "marker": {
             "colorbar": {
              "outlinewidth": 0,
              "ticks": ""
             }
            },
            "type": "scatterpolar"
           }
          ],
          "scatterpolargl": [
           {
            "marker": {
             "colorbar": {
              "outlinewidth": 0,
              "ticks": ""
             }
            },
            "type": "scatterpolargl"
           }
          ],
          "scatterternary": [
           {
            "marker": {
             "colorbar": {
              "outlinewidth": 0,
              "ticks": ""
             }
            },
            "type": "scatterternary"
           }
          ],
          "surface": [
           {
            "colorbar": {
             "outlinewidth": 0,
             "ticks": ""
            },
            "colorscale": [
             [
              0,
              "#0d0887"
             ],
             [
              0.1111111111111111,
              "#46039f"
             ],
             [
              0.2222222222222222,
              "#7201a8"
             ],
             [
              0.3333333333333333,
              "#9c179e"
             ],
             [
              0.4444444444444444,
              "#bd3786"
             ],
             [
              0.5555555555555556,
              "#d8576b"
             ],
             [
              0.6666666666666666,
              "#ed7953"
             ],
             [
              0.7777777777777778,
              "#fb9f3a"
             ],
             [
              0.8888888888888888,
              "#fdca26"
             ],
             [
              1,
              "#f0f921"
             ]
            ],
            "type": "surface"
           }
          ],
          "table": [
           {
            "cells": {
             "fill": {
              "color": "#EBF0F8"
             },
             "line": {
              "color": "white"
             }
            },
            "header": {
             "fill": {
              "color": "#C8D4E3"
             },
             "line": {
              "color": "white"
             }
            },
            "type": "table"
           }
          ]
         },
         "layout": {
          "annotationdefaults": {
           "arrowcolor": "#2a3f5f",
           "arrowhead": 0,
           "arrowwidth": 1
          },
          "autotypenumbers": "strict",
          "coloraxis": {
           "colorbar": {
            "outlinewidth": 0,
            "ticks": ""
           }
          },
          "colorscale": {
           "diverging": [
            [
             0,
             "#8e0152"
            ],
            [
             0.1,
             "#c51b7d"
            ],
            [
             0.2,
             "#de77ae"
            ],
            [
             0.3,
             "#f1b6da"
            ],
            [
             0.4,
             "#fde0ef"
            ],
            [
             0.5,
             "#f7f7f7"
            ],
            [
             0.6,
             "#e6f5d0"
            ],
            [
             0.7,
             "#b8e186"
            ],
            [
             0.8,
             "#7fbc41"
            ],
            [
             0.9,
             "#4d9221"
            ],
            [
             1,
             "#276419"
            ]
           ],
           "sequential": [
            [
             0,
             "#0d0887"
            ],
            [
             0.1111111111111111,
             "#46039f"
            ],
            [
             0.2222222222222222,
             "#7201a8"
            ],
            [
             0.3333333333333333,
             "#9c179e"
            ],
            [
             0.4444444444444444,
             "#bd3786"
            ],
            [
             0.5555555555555556,
             "#d8576b"
            ],
            [
             0.6666666666666666,
             "#ed7953"
            ],
            [
             0.7777777777777778,
             "#fb9f3a"
            ],
            [
             0.8888888888888888,
             "#fdca26"
            ],
            [
             1,
             "#f0f921"
            ]
           ],
           "sequentialminus": [
            [
             0,
             "#0d0887"
            ],
            [
             0.1111111111111111,
             "#46039f"
            ],
            [
             0.2222222222222222,
             "#7201a8"
            ],
            [
             0.3333333333333333,
             "#9c179e"
            ],
            [
             0.4444444444444444,
             "#bd3786"
            ],
            [
             0.5555555555555556,
             "#d8576b"
            ],
            [
             0.6666666666666666,
             "#ed7953"
            ],
            [
             0.7777777777777778,
             "#fb9f3a"
            ],
            [
             0.8888888888888888,
             "#fdca26"
            ],
            [
             1,
             "#f0f921"
            ]
           ]
          },
          "colorway": [
           "#636efa",
           "#EF553B",
           "#00cc96",
           "#ab63fa",
           "#FFA15A",
           "#19d3f3",
           "#FF6692",
           "#B6E880",
           "#FF97FF",
           "#FECB52"
          ],
          "font": {
           "color": "#2a3f5f"
          },
          "geo": {
           "bgcolor": "white",
           "lakecolor": "white",
           "landcolor": "#E5ECF6",
           "showlakes": true,
           "showland": true,
           "subunitcolor": "white"
          },
          "hoverlabel": {
           "align": "left"
          },
          "hovermode": "closest",
          "mapbox": {
           "style": "light"
          },
          "paper_bgcolor": "white",
          "plot_bgcolor": "#E5ECF6",
          "polar": {
           "angularaxis": {
            "gridcolor": "white",
            "linecolor": "white",
            "ticks": ""
           },
           "bgcolor": "#E5ECF6",
           "radialaxis": {
            "gridcolor": "white",
            "linecolor": "white",
            "ticks": ""
           }
          },
          "scene": {
           "xaxis": {
            "backgroundcolor": "#E5ECF6",
            "gridcolor": "white",
            "gridwidth": 2,
            "linecolor": "white",
            "showbackground": true,
            "ticks": "",
            "zerolinecolor": "white"
           },
           "yaxis": {
            "backgroundcolor": "#E5ECF6",
            "gridcolor": "white",
            "gridwidth": 2,
            "linecolor": "white",
            "showbackground": true,
            "ticks": "",
            "zerolinecolor": "white"
           },
           "zaxis": {
            "backgroundcolor": "#E5ECF6",
            "gridcolor": "white",
            "gridwidth": 2,
            "linecolor": "white",
            "showbackground": true,
            "ticks": "",
            "zerolinecolor": "white"
           }
          },
          "shapedefaults": {
           "line": {
            "color": "#2a3f5f"
           }
          },
          "ternary": {
           "aaxis": {
            "gridcolor": "white",
            "linecolor": "white",
            "ticks": ""
           },
           "baxis": {
            "gridcolor": "white",
            "linecolor": "white",
            "ticks": ""
           },
           "bgcolor": "#E5ECF6",
           "caxis": {
            "gridcolor": "white",
            "linecolor": "white",
            "ticks": ""
           }
          },
          "title": {
           "x": 0.05
          },
          "xaxis": {
           "automargin": true,
           "gridcolor": "white",
           "linecolor": "white",
           "ticks": "",
           "title": {
            "standoff": 15
           },
           "zerolinecolor": "white",
           "zerolinewidth": 2
          },
          "yaxis": {
           "automargin": true,
           "gridcolor": "white",
           "linecolor": "white",
           "ticks": "",
           "title": {
            "standoff": 15
           },
           "zerolinecolor": "white",
           "zerolinewidth": 2
          }
         }
        },
        "title": {
         "text": "Feature Importances"
        },
        "xaxis": {
         "anchor": "y",
         "domain": [
          0,
          1
         ],
         "title": {
          "text": "features"
         }
        },
        "yaxis": {
         "anchor": "x",
         "domain": [
          0,
          1
         ],
         "title": {
          "text": "importances"
         }
        }
       }
      }
     },
     "metadata": {},
     "output_type": "display_data"
    }
   ],
   "source": [
    "# fit X_train, y_train with GradientBoostingClassifier\n",
    "from sklearn.ensemble import GradientBoostingClassifier\n",
    "\n",
    "# if we cross validate on n_estimators, we get 500\n",
    "# if we cross validate on max_depth, we get 6\n",
    "# if we cross validate on learning_rate, we get 0.1\n",
    "gb = GradientBoostingClassifier(n_estimators=500, random_state=101, max_depth=6, learning_rate=0.1)\n",
    "gb.fit(X_train, y_train)\n",
    "y_gb = gb.predict(X_test)\n",
    "accuracy = accuracy_score(y_test, y_gb)\n",
    "print(f\"Accuracy: {accuracy:.4f}\")\n",
    "\n",
    "# calculate the feature importance for the GradientBoostingClassifier\n",
    "importances = gb.feature_importances_\n",
    "\n",
    "indices_sorted = np.argsort(importances)[::-1]\n",
    "importances_sorted = importances[indices_sorted]\n",
    "features_sorted = np.array(features)[indices_sorted]\n",
    "\n",
    "# plot the feature importances with plotly express\n",
    "import plotly.express as px\n",
    "dfPlot = pd.DataFrame({'features': features_sorted, 'importances': importances_sorted})\n",
    "fig = px.bar(dfPlot, x='features', y='importances', title='Feature Importances')\n",
    "fig.show()\n"
   ]
  },
  {
   "cell_type": "code",
   "execution_count": 60,
   "metadata": {},
   "outputs": [
    {
     "name": "stdout",
     "output_type": "stream",
     "text": [
      "Top feature  ['ch$' 'ch!' 'remove']\n",
      "Top feature importance  [0.28458435 0.15813224 0.14502203]\n"
     ]
    },
    {
     "data": {
      "image/png": "[encoded data removed]",
      "text/plain": [
       "<Figure size 1500x500 with 3 Axes>"
      ]
     },
     "metadata": {},
     "output_type": "display_data"
    },
    {
     "data": {
      "image/png": "[encoded data removed]",
      "text/plain": [
       "<Figure size 640x480 with 4 Axes>"
      ]
     },
     "metadata": {},
     "output_type": "display_data"
    }
   ],
   "source": [
    "# calculate the partial dependence plot for the GradientBoostingClassifier, plot the top 3 features with the highest importance\n",
    "from sklearn.inspection import PartialDependenceDisplay\n",
    "import matplotlib.pyplot as plt\n",
    "\n",
    "num_top_features = 3\n",
    "top_indices = indices_sorted[:num_top_features]\n",
    "top_featuer_importance = importances[top_indices]\n",
    "top_feature_names = np.array(features)[top_indices]\n",
    "\n",
    "print(\"Top feature \", top_feature_names)\n",
    "print(\"Top feature importance \", top_featuer_importance)\n",
    "fig, ax = plt.subplots(1, num_top_features, figsize=(15, 5))\n",
    "display = PartialDependenceDisplay.from_estimator(gb, X_train, features=top_indices.tolist(), response_method='decision_function')\n",
    "display.plot(ax=ax)\n",
    "plt.show()"
   ]
  },
  {
   "cell_type": "markdown",
   "metadata": {},
   "source": [
    "## Random Forest Classifier"
   ]
  },
  {
   "cell_type": "code",
   "execution_count": 68,
   "metadata": {},
   "outputs": [
    {
     "name": "stdout",
     "output_type": "stream",
     "text": [
      "Accuracy: 0.9551\n"
     ]
    }
   ],
   "source": [
    "# fit X_train, y_train with RandomForestClassifier\n",
    "from sklearn.ensemble import RandomForestClassifier\n",
    "rf = RandomForestClassifier(random_state=101)\n",
    "rf.fit(X_train, y_train)\n",
    "y_rf = rf.predict(X_test)\n",
    "accuracy = accuracy_score(y_test, y_rf)\n",
    "print(f\"Accuracy: {accuracy:.4f}\")"
   ]
  },
  {
   "cell_type": "code",
   "execution_count": 69,
   "metadata": {},
   "outputs": [
    {
     "name": "stdout",
     "output_type": "stream",
     "text": [
      "Best parameters: {'max_depth': 15, 'max_features': 0.25, 'n_estimators': 200}\n",
      "Best cross-validated accuracy: 0.9351\n",
      "Test set accuracy: 0.9473\n"
     ]
    }
   ],
   "source": [
    "# grid search the RandomForestClassifier with different n_estimators, max_depth, max_features\n",
    "from sklearn.model_selection import GridSearchCV\n",
    "param_grid = {\n",
    "    'n_estimators': [50, 100, 200],\n",
    "    'max_depth': [5, 10, 15],\n",
    "    'max_features': [0.25, 0.5, 0.75]\n",
    "}\n",
    "grid = GridSearchCV(RandomForestClassifier(random_state=101), param_grid, cv=10, scoring='accuracy')\n",
    "\n",
    "grid.fit(X_train, y_train)\n",
    "print(f\"Best parameters: {grid.best_params_}\")\n",
    "print(f\"Best cross-validated accuracy: {grid.best_score_:.4f}\")\n",
    "print(f\"Test set accuracy: {accuracy_score(y_test, grid.best_estimator_.predict(X_test)):.4f}\")"
   ]
  },
  {
   "cell_type": "code",
   "execution_count": 73,
   "metadata": {},
   "outputs": [
    {
     "name": "stdout",
     "output_type": "stream",
     "text": [
      "Best parameters: {'max_depth': 30, 'max_features': 0.06, 'n_estimators': 200}\n",
      "Best cross-validated accuracy: 0.9413\n",
      "Test set accuracy: 0.9551\n"
     ]
    }
   ],
   "source": [
    "# grid search the RandomForestClassifier with different n_estimators, max_depth, max_features\n",
    "from sklearn.model_selection import GridSearchCV\n",
    "param_grid = {\n",
    "    'n_estimators': [200, 400],\n",
    "    'max_depth': [15, 30],\n",
    "    'max_features': [0.06, 0.12, 0.25]\n",
    "}\n",
    "grid = GridSearchCV(RandomForestClassifier(random_state=101), param_grid, cv=10, scoring='accuracy')\n",
    "\n",
    "grid.fit(X_train, y_train)\n",
    "print(f\"Best parameters: {grid.best_params_}\")\n",
    "print(f\"Best cross-validated accuracy: {grid.best_score_:.4f}\")\n",
    "print(f\"Test set accuracy: {accuracy_score(y_test, grid.best_estimator_.predict(X_test)):.4f}\")"
   ]
  },
  {
   "cell_type": "markdown",
   "metadata": {},
   "source": [
    "### Model Comparison with ROC"
   ]
  },
  {
   "cell_type": "code",
   "execution_count": 74,
   "metadata": {},
   "outputs": [
    {
     "data": {
      "application/vnd.plotly.v1+json": {
       "config": {
        "plotlyServerURL": "https://plot.ly"
       },
       "data": [
        {
         "mode": "lines",
         "name": "Logistic Regression (0.978)",
         "type": "scatter",
         "x": [
          0,
          0,
          0,
          0,
          0,
          0,
          0,
          0,
          0,
          0,
          0,
          0.0010626992561105207,
          0.0010626992561105207,
          0.0010626992561105207,
          0.0010626992561105207,
          0.0021253985122210413,
          0.0021253985122210413,
          0.0021253985122210413,
          0.0021253985122210413,
          0.0021253985122210413,
          0.0021253985122210413,
          0.003188097768331562,
          0.003188097768331562,
          0.004250797024442083,
          0.004250797024442083,
          0.004250797024442083,
          0.005313496280552604,
          0.005313496280552604,
          0.006376195536663124,
          0.006376195536663124,
          0.006376195536663124,
          0.006376195536663124,
          0.007438894792773645,
          0.007438894792773645,
          0.008501594048884165,
          0.008501594048884165,
          0.009564293304994687,
          0.009564293304994687,
          0.010626992561105207,
          0.010626992561105207,
          0.012752391073326248,
          0.012752391073326248,
          0.012752391073326248,
          0.012752391073326248,
          0.01381509032943677,
          0.01381509032943677,
          0.01487778958554729,
          0.01487778958554729,
          0.01487778958554729,
          0.01487778958554729,
          0.01700318809776833,
          0.01700318809776833,
          0.01700318809776833,
          0.01700318809776833,
          0.01700318809776833,
          0.01700318809776833,
          0.019128586609989374,
          0.019128586609989374,
          0.020191285866099893,
          0.020191285866099893,
          0.021253985122210415,
          0.021253985122210415,
          0.022316684378320937,
          0.022316684378320937,
          0.023379383634431455,
          0.023379383634431455,
          0.024442082890541977,
          0.024442082890541977,
          0.024442082890541977,
          0.025504782146652496,
          0.025504782146652496,
          0.02763018065887354,
          0.02763018065887354,
          0.02975557917109458,
          0.02975557917109458,
          0.030818278427205102,
          0.030818278427205102,
          0.03294367693942614,
          0.03294367693942614,
          0.03400637619553666,
          0.03400637619553666,
          0.03506907545164718,
          0.03506907545164718,
          0.036131774707757705,
          0.036131774707757705,
          0.03825717321997875,
          0.03825717321997875,
          0.039319872476089264,
          0.039319872476089264,
          0.040382571732199786,
          0.040382571732199786,
          0.04144527098831031,
          0.04144527098831031,
          0.04569606801275239,
          0.04569606801275239,
          0.04782146652497343,
          0.04782146652497343,
          0.052072263549415514,
          0.052072263549415514,
          0.05526036131774708,
          0.05526036131774708,
          0.06801275239107332,
          0.06801275239107332,
          0.07013815090329437,
          0.07013815090329437,
          0.07013815090329437,
          0.07120085015940489,
          0.07120085015940489,
          0.07863974495217853,
          0.07863974495217853,
          0.08395324123273114,
          0.09032943676939426,
          0.09032943676939426,
          0.09458023379383634,
          0.09458023379383634,
          0.09564293304994687,
          0.09564293304994687,
          0.10095642933049948,
          0.10095642933049948,
          0.10414452709883103,
          0.10414452709883103,
          0.11052072263549416,
          0.11052072263549416,
          0.1126461211477152,
          0.1126461211477152,
          0.11370882040382571,
          0.11370882040382571,
          0.1179596174282678,
          0.1179596174282678,
          0.12646121147715197,
          0.12646121147715197,
          0.13496280552603612,
          0.13496280552603612,
          0.1487778958554729,
          0.1487778958554729,
          0.1636556854410202,
          0.1636556854410202,
          0.17640807651434645,
          0.17640807651434645,
          0.1785334750265675,
          0.1785334750265675,
          0.1806588735387885,
          0.1806588735387885,
          0.18172157279489903,
          0.18172157279489903,
          0.18809776833156217,
          0.18809776833156217,
          0.1891604675876727,
          0.19553666312433582,
          0.19553666312433582,
          0.20297555791710944,
          0.2051009564293305,
          0.22741764080765142,
          0.22741764080765142,
          0.230605738575983,
          0.230605738575983,
          0.23379383634431455,
          0.23379383634431455,
          0.2454835281615303,
          0.2454835281615303,
          0.25717321997874604,
          0.25717321997874604,
          0.2635494155154091,
          0.26567481402763016,
          0.27948990435706694,
          0.27948990435706694,
          0.30924548352816156,
          0.30924548352816156,
          0.32199787460148777,
          0.32518597236981933,
          0.3390010626992561,
          0.3390010626992561,
          0.34006376195536664,
          0.34006376195536664,
          0.3443145589798087,
          0.34643995749202977,
          0.3538788522848034,
          0.361317747077577,
          0.37194473963868224,
          0.3740701381509033,
          0.3783209351753454,
          0.3783209351753454,
          0.3931987247608927,
          0.40170031880977686,
          0.41764080765143463,
          0.4197662061636557,
          0.4760892667375133,
          0.4760892667375133,
          0.4814027630180659,
          0.48352816153028694,
          0.5239107332624867,
          0.5260361317747078,
          0.5547290116896918,
          0.5568544102019128,
          0.6163655685441021,
          0.6163655685441021,
          0.722635494155154,
          0.722635494155154,
          0.871413390010627,
          0.873538788522848,
          0.8767268862911796,
          0.8788522848034006,
          0.9404888416578109,
          0.9426142401700319,
          0.9436769394261424,
          0.9458023379383634,
          0.9521785334750266,
          0.975557917109458,
          0.9776833156216791,
          0.9851222104144527,
          0.9872476089266737,
          0.997874601487779,
          1
         ],
         "y": [
          0,
          0.0016806722689075631,
          0.03697478991596639,
          0.04201680672268908,
          0.047058823529411764,
          0.05042016806722689,
          0.15294117647058825,
          0.15630252100840336,
          0.23361344537815126,
          0.23697478991596638,
          0.27563025210084036,
          0.27563025210084036,
          0.2823529411764706,
          0.28739495798319326,
          0.2907563025210084,
          0.2907563025210084,
          0.33277310924369746,
          0.33613445378151263,
          0.4588235294117647,
          0.46218487394957986,
          0.5260504201680672,
          0.5260504201680672,
          0.5294117647058824,
          0.5294117647058824,
          0.5327731092436975,
          0.534453781512605,
          0.534453781512605,
          0.5563025210084034,
          0.5563025210084034,
          0.5764705882352941,
          0.5798319327731093,
          0.6050420168067226,
          0.6050420168067226,
          0.6302521008403361,
          0.6302521008403361,
          0.6588235294117647,
          0.6588235294117647,
          0.6756302521008404,
          0.6756302521008404,
          0.6873949579831933,
          0.6873949579831933,
          0.6890756302521008,
          0.6941176470588235,
          0.7008403361344537,
          0.7008403361344537,
          0.704201680672269,
          0.704201680672269,
          0.7210084033613445,
          0.7243697478991596,
          0.7260504201680672,
          0.7260504201680672,
          0.746218487394958,
          0.7512605042016807,
          0.7647058823529411,
          0.7680672268907563,
          0.7747899159663866,
          0.7747899159663866,
          0.8050420168067227,
          0.8050420168067227,
          0.8151260504201681,
          0.8151260504201681,
          0.8403361344537815,
          0.8403361344537815,
          0.8436974789915966,
          0.8436974789915966,
          0.8504201680672269,
          0.8504201680672269,
          0.853781512605042,
          0.8722689075630252,
          0.8722689075630252,
          0.8756302521008403,
          0.8756302521008403,
          0.8823529411764706,
          0.8823529411764706,
          0.8890756302521008,
          0.8890756302521008,
          0.8907563025210085,
          0.8907563025210085,
          0.8957983193277311,
          0.8957983193277311,
          0.9042016806722689,
          0.9042016806722689,
          0.907563025210084,
          0.907563025210084,
          0.9109243697478991,
          0.9109243697478991,
          0.9126050420168067,
          0.9126050420168067,
          0.9142857142857143,
          0.9142857142857143,
          0.9159663865546218,
          0.9159663865546218,
          0.9176470588235294,
          0.9176470588235294,
          0.9193277310924369,
          0.9193277310924369,
          0.9210084033613445,
          0.9210084033613445,
          0.9226890756302522,
          0.9226890756302522,
          0.9243697478991597,
          0.9243697478991597,
          0.9260504201680673,
          0.9260504201680673,
          0.9294117647058824,
          0.9310924369747899,
          0.9310924369747899,
          0.9361344537815126,
          0.9361344537815126,
          0.9378151260504202,
          0.9378151260504202,
          0.9378151260504202,
          0.9394957983193277,
          0.9394957983193277,
          0.9428571428571428,
          0.9428571428571428,
          0.9478991596638655,
          0.9478991596638655,
          0.9495798319327731,
          0.9495798319327731,
          0.9512605042016806,
          0.9512605042016806,
          0.9529411764705882,
          0.9529411764705882,
          0.9546218487394958,
          0.9546218487394958,
          0.9563025210084034,
          0.9563025210084034,
          0.957983193277311,
          0.957983193277311,
          0.9596638655462185,
          0.9596638655462185,
          0.9613445378151261,
          0.9613445378151261,
          0.9630252100840336,
          0.9630252100840336,
          0.9647058823529412,
          0.9647058823529412,
          0.9663865546218487,
          0.9663865546218487,
          0.9680672268907563,
          0.9680672268907563,
          0.9697478991596639,
          0.9697478991596639,
          0.9714285714285714,
          0.9714285714285714,
          0.973109243697479,
          0.9747899159663865,
          0.9747899159663865,
          0.9764705882352941,
          0.9764705882352941,
          0.9764705882352941,
          0.9764705882352941,
          0.9781512605042016,
          0.9781512605042016,
          0.9798319327731092,
          0.9798319327731092,
          0.9815126050420168,
          0.9815126050420168,
          0.9831932773109243,
          0.9831932773109243,
          0.984873949579832,
          0.984873949579832,
          0.984873949579832,
          0.984873949579832,
          0.9865546218487395,
          0.9865546218487395,
          0.9882352941176471,
          0.9882352941176471,
          0.9882352941176471,
          0.9882352941176471,
          0.9899159663865547,
          0.9899159663865547,
          0.9915966386554622,
          0.9915966386554622,
          0.9915966386554622,
          0.9915966386554622,
          0.9915966386554622,
          0.9915966386554622,
          0.9915966386554622,
          0.9915966386554622,
          0.9932773109243698,
          0.9932773109243698,
          0.9932773109243698,
          0.9932773109243698,
          0.9932773109243698,
          0.9932773109243698,
          0.9949579831932773,
          0.9949579831932773,
          0.9949579831932773,
          0.9949579831932773,
          0.9949579831932773,
          0.9949579831932773,
          0.9949579831932773,
          0.9949579831932773,
          0.9983193277310924,
          0.9983193277310924,
          1,
          1,
          1,
          1,
          1,
          1,
          1,
          1,
          1,
          1,
          1,
          1,
          1,
          1,
          1,
          1
         ]
        },
        {
         "mode": "lines",
         "name": "Decision Tree (0.921)",
         "type": "scatter",
         "x": [
          0,
          0.03825717321997875,
          0.04675876726886291,
          0.05526036131774708,
          0.057385759829968117,
          0.05844845908607864,
          0.06057385759829968,
          0.07863974495217853,
          0.07970244420828905,
          0.0871413390010627,
          0.20403825717321997,
          0.21785334750265675,
          0.28055260361317746,
          0.5972369819341127,
          1
         ],
         "y": [
          0,
          0.26218487394957984,
          0.7647058823529411,
          0.8638655462184874,
          0.8672268907563025,
          0.8789915966386554,
          0.8789915966386554,
          0.8873949579831932,
          0.8957983193277311,
          0.9025210084033614,
          0.9378151260504202,
          0.9378151260504202,
          0.9428571428571428,
          0.9630252100840336,
          1
         ]
        },
        {
         "mode": "lines",
         "name": "Gradient Boosting (0.988)",
         "type": "scatter",
         "x": [
          0,
          0,
          0,
          0,
          0,
          0,
          0,
          0,
          0,
          0,
          0,
          0,
          0,
          0,
          0,
          0,
          0,
          0,
          0,
          0,
          0,
          0,
          0,
          0,
          0,
          0,
          0,
          0,
          0,
          0,
          0,
          0,
          0,
          0,
          0,
          0,
          0,
          0,
          0,
          0,
          0,
          0,
          0,
          0,
          0,
          0,
          0,
          0,
          0,
          0,
          0,
          0,
          0.0010626992561105207,
          0.0010626992561105207,
          0.0010626992561105207,
          0.0010626992561105207,
          0.0010626992561105207,
          0.0010626992561105207,
          0.0010626992561105207,
          0.0010626992561105207,
          0.0010626992561105207,
          0.0010626992561105207,
          0.0010626992561105207,
          0.0010626992561105207,
          0.0010626992561105207,
          0.0010626992561105207,
          0.0021253985122210413,
          0.0021253985122210413,
          0.0021253985122210413,
          0.0021253985122210413,
          0.0021253985122210413,
          0.003188097768331562,
          0.003188097768331562,
          0.003188097768331562,
          0.003188097768331562,
          0.003188097768331562,
          0.003188097768331562,
          0.003188097768331562,
          0.003188097768331562,
          0.004250797024442083,
          0.004250797024442083,
          0.004250797024442083,
          0.004250797024442083,
          0.004250797024442083,
          0.004250797024442083,
          0.004250797024442083,
          0.004250797024442083,
          0.004250797024442083,
          0.004250797024442083,
          0.005313496280552604,
          0.005313496280552604,
          0.006376195536663124,
          0.006376195536663124,
          0.007438894792773645,
          0.007438894792773645,
          0.008501594048884165,
          0.008501594048884165,
          0.008501594048884165,
          0.008501594048884165,
          0.009564293304994687,
          0.009564293304994687,
          0.009564293304994687,
          0.009564293304994687,
          0.010626992561105207,
          0.010626992561105207,
          0.011689691817215728,
          0.011689691817215728,
          0.012752391073326248,
          0.012752391073326248,
          0.01381509032943677,
          0.01381509032943677,
          0.01381509032943677,
          0.015940488841657812,
          0.015940488841657812,
          0.018065887353878853,
          0.018065887353878853,
          0.020191285866099893,
          0.020191285866099893,
          0.021253985122210415,
          0.021253985122210415,
          0.022316684378320937,
          0.022316684378320937,
          0.023379383634431455,
          0.023379383634431455,
          0.023379383634431455,
          0.024442082890541977,
          0.024442082890541977,
          0.025504782146652496,
          0.025504782146652496,
          0.028692879914984058,
          0.028692879914984058,
          0.02975557917109458,
          0.02975557917109458,
          0.031880977683315624,
          0.031880977683315624,
          0.03400637619553666,
          0.03400637619553666,
          0.036131774707757705,
          0.036131774707757705,
          0.03825717321997875,
          0.03825717321997875,
          0.039319872476089264,
          0.039319872476089264,
          0.04357066950053135,
          0.04357066950053135,
          0.044633368756641874,
          0.044633368756641874,
          0.04569606801275239,
          0.04569606801275239,
          0.052072263549415514,
          0.052072263549415514,
          0.053134962805526036,
          0.053134962805526036,
          0.057385759829968117,
          0.057385759829968117,
          0.05844845908607864,
          0.05844845908607864,
          0.06269925611052073,
          0.06269925611052073,
          0.06907545164718384,
          0.06907545164718384,
          0.07226354941551541,
          0.07226354941551541,
          0.07545164718384698,
          0.07545164718384698,
          0.08289054197662062,
          0.08289054197662062,
          0.09883103081827843,
          0.09883103081827843,
          0.09989373007438895,
          0.09989373007438895,
          0.10520722635494155,
          0.10520722635494155,
          0.1275239107332625,
          0.1275239107332625,
          0.13708820403825717,
          0.13708820403825717,
          0.14240170031880978,
          0.14240170031880978,
          0.14771519659936239,
          0.14984059511158343,
          0.15090329436769395,
          0.15090329436769395,
          0.20085015940488843,
          0.20297555791710944,
          0.22848034006376194,
          0.22848034006376194,
          0.2359192348565356,
          0.2359192348565356,
          0.25398512221041447,
          0.25398512221041447,
          0.2635494155154091,
          0.2667375132837407,
          0.28055260361317746,
          0.2869287991498406,
          0.28905419766206164,
          0.29436769394261425,
          0.2975557917109458,
          0.3134962805526036,
          0.3390010626992561,
          0.34112646121147716,
          0.3432518597236982,
          0.3443145589798087,
          0.36238044633368754,
          0.36238044633368754,
          0.3655685441020191,
          0.36769394261424015,
          0.412327311370882,
          0.41445270988310307,
          0.4218916046758767,
          0.42401700318809776,
          0.436769394261424,
          0.4399574920297556,
          0.45164718384697133,
          0.4537725823591923,
          0.45483528161530284,
          0.4569606801275239,
          0.4718384697130712,
          0.48034006376195537,
          0.4867162592986185,
          0.48884165781083955,
          0.512221041445271,
          0.5143464399574921,
          0.5377258235919234,
          0.5377258235919234,
          0.5887353878852285,
          0.5887353878852285,
          0.6259298618490967,
          0.6301806588735388,
          0.6344314558979809,
          0.6344314558979809,
          0.7098831030818279,
          0.7120085015940489,
          0.7417640807651434,
          0.7768331562167906,
          0.844845908607864,
          0.8469713071200851,
          0.871413390010627,
          0.873538788522848,
          0.9086078639744952,
          0.9128586609989373,
          0.9426142401700319,
          0.944739638682253,
          1
         ],
         "y": [
          0,
          0.0016806722689075631,
          0.025210084033613446,
          0.02857142857142857,
          0.03361344537815126,
          0.03697478991596639,
          0.08571428571428572,
          0.08907563025210084,
          0.09915966386554621,
          0.10252100840336134,
          0.1092436974789916,
          0.11596638655462185,
          0.11932773109243698,
          0.12605042016806722,
          0.12941176470588237,
          0.13277310924369748,
          0.13949579831932774,
          0.1411764705882353,
          0.14453781512605043,
          0.1495798319327731,
          0.15294117647058825,
          0.17142857142857143,
          0.17478991596638654,
          0.17647058823529413,
          0.17983193277310924,
          0.1915966386554622,
          0.19831932773109243,
          0.2,
          0.20336134453781513,
          0.21008403361344538,
          0.2134453781512605,
          0.2218487394957983,
          0.22521008403361345,
          0.226890756302521,
          0.23025210084033612,
          0.3058823529411765,
          0.3092436974789916,
          0.3126050420168067,
          0.31596638655462184,
          0.32100840336134456,
          0.3243697478991597,
          0.33277310924369746,
          0.33613445378151263,
          0.3411764705882353,
          0.346218487394958,
          0.37478991596638656,
          0.37815126050420167,
          0.41008403361344536,
          0.4134453781512605,
          0.42857142857142855,
          0.4319327731092437,
          0.46218487394957986,
          0.46218487394957986,
          0.4823529411764706,
          0.4857142857142857,
          0.5058823529411764,
          0.5092436974789916,
          0.5327731092436975,
          0.5361344537815126,
          0.5781512605042017,
          0.5815126050420169,
          0.5966386554621849,
          0.6,
          0.6168067226890757,
          0.6235294117647059,
          0.6369747899159663,
          0.6369747899159663,
          0.6571428571428571,
          0.6638655462184874,
          0.6672268907563025,
          0.6773109243697479,
          0.6773109243697479,
          0.680672268907563,
          0.6840336134453782,
          0.6890756302521008,
          0.692436974789916,
          0.7025210084033613,
          0.7058823529411765,
          0.7310924369747899,
          0.7310924369747899,
          0.7378151260504202,
          0.7428571428571429,
          0.7478991596638656,
          0.7512605042016807,
          0.761344537815126,
          0.7647058823529411,
          0.773109243697479,
          0.7798319327731092,
          0.7848739495798319,
          0.7848739495798319,
          0.7865546218487395,
          0.7865546218487395,
          0.7899159663865546,
          0.7899159663865546,
          0.7932773109243697,
          0.7932773109243697,
          0.8016806722689076,
          0.8050420168067227,
          0.8151260504201681,
          0.8151260504201681,
          0.838655462184874,
          0.8420168067226891,
          0.8521008403361344,
          0.8521008403361344,
          0.8588235294117647,
          0.8588235294117647,
          0.8638655462184874,
          0.8638655462184874,
          0.8739495798319328,
          0.8739495798319328,
          0.8789915966386554,
          0.8823529411764706,
          0.8823529411764706,
          0.8907563025210085,
          0.8907563025210085,
          0.8957983193277311,
          0.8957983193277311,
          0.907563025210084,
          0.907563025210084,
          0.9092436974789916,
          0.9092436974789916,
          0.9142857142857143,
          0.9142857142857143,
          0.9176470588235294,
          0.9193277310924369,
          0.9193277310924369,
          0.9243697478991597,
          0.9243697478991597,
          0.9260504201680673,
          0.9260504201680673,
          0.9310924369747899,
          0.9310924369747899,
          0.934453781512605,
          0.934453781512605,
          0.9361344537815126,
          0.9361344537815126,
          0.9428571428571428,
          0.9428571428571428,
          0.9445378151260504,
          0.9445378151260504,
          0.946218487394958,
          0.946218487394958,
          0.9478991596638655,
          0.9478991596638655,
          0.9512605042016806,
          0.9512605042016806,
          0.9529411764705882,
          0.9529411764705882,
          0.9546218487394958,
          0.9546218487394958,
          0.957983193277311,
          0.957983193277311,
          0.9596638655462185,
          0.9596638655462185,
          0.9613445378151261,
          0.9613445378151261,
          0.9630252100840336,
          0.9630252100840336,
          0.9663865546218487,
          0.9663865546218487,
          0.9680672268907563,
          0.9680672268907563,
          0.9697478991596639,
          0.9697478991596639,
          0.9714285714285714,
          0.9714285714285714,
          0.973109243697479,
          0.973109243697479,
          0.9747899159663865,
          0.9747899159663865,
          0.9764705882352941,
          0.9764705882352941,
          0.9781512605042016,
          0.9781512605042016,
          0.9798319327731092,
          0.9798319327731092,
          0.9815126050420168,
          0.9815126050420168,
          0.9831932773109243,
          0.9831932773109243,
          0.9831932773109243,
          0.9831932773109243,
          0.984873949579832,
          0.984873949579832,
          0.984873949579832,
          0.984873949579832,
          0.9865546218487395,
          0.9865546218487395,
          0.9882352941176471,
          0.9882352941176471,
          0.9899159663865547,
          0.9899159663865547,
          0.9899159663865547,
          0.9899159663865547,
          0.9899159663865547,
          0.9899159663865547,
          0.9899159663865547,
          0.9899159663865547,
          0.9915966386554622,
          0.9915966386554622,
          0.9915966386554622,
          0.9915966386554622,
          0.9932773109243698,
          0.9932773109243698,
          0.9949579831932773,
          0.9949579831932773,
          0.9949579831932773,
          0.9949579831932773,
          0.9949579831932773,
          0.9949579831932773,
          0.9949579831932773,
          0.9949579831932773,
          0.9949579831932773,
          0.9949579831932773,
          0.9949579831932773,
          0.9949579831932773,
          0.9949579831932773,
          0.9949579831932773,
          0.9949579831932773,
          0.9949579831932773,
          0.9949579831932773,
          0.9949579831932773,
          0.9949579831932773,
          0.9949579831932773,
          0.9966386554621849,
          0.9966386554621849,
          0.9983193277310924,
          0.9983193277310924,
          0.9983193277310924,
          0.9983193277310924,
          1,
          1,
          1,
          1,
          1,
          1,
          1,
          1,
          1,
          1,
          1,
          1,
          1,
          1
         ]
        },
        {
         "line": {
          "dash": "dash"
         },
         "mode": "lines",
         "name": "Random",
         "type": "scatter",
         "x": [
          0,
          1
         ],
         "y": [
          0,
          1
         ]
        },
        {
         "mode": "lines",
         "name": "Random Forest (0.984)",
         "type": "scatter",
         "x": [
          0,
          0,
          0,
          0,
          0,
          0,
          0,
          0,
          0.0010626992561105207,
          0.0010626992561105207,
          0.0010626992561105207,
          0.0010626992561105207,
          0.0010626992561105207,
          0.0010626992561105207,
          0.0010626992561105207,
          0.0010626992561105207,
          0.0010626992561105207,
          0.0010626992561105207,
          0.0021253985122210413,
          0.0021253985122210413,
          0.0021253985122210413,
          0.0021253985122210413,
          0.0021253985122210413,
          0.0021253985122210413,
          0.003188097768331562,
          0.004250797024442083,
          0.005313496280552604,
          0.005313496280552604,
          0.005313496280552604,
          0.005313496280552604,
          0.005313496280552604,
          0.005313496280552604,
          0.007438894792773645,
          0.007438894792773645,
          0.007438894792773645,
          0.007438894792773645,
          0.007438894792773645,
          0.007438894792773645,
          0.007438894792773645,
          0.007438894792773645,
          0.008501594048884165,
          0.008501594048884165,
          0.008501594048884165,
          0.010626992561105207,
          0.010626992561105207,
          0.010626992561105207,
          0.011689691817215728,
          0.012752391073326248,
          0.012752391073326248,
          0.01381509032943677,
          0.01487778958554729,
          0.01487778958554729,
          0.01487778958554729,
          0.015940488841657812,
          0.015940488841657812,
          0.018065887353878853,
          0.019128586609989374,
          0.021253985122210415,
          0.021253985122210415,
          0.021253985122210415,
          0.026567481402763018,
          0.028692879914984058,
          0.031880977683315624,
          0.03400637619553666,
          0.03825717321997875,
          0.03825717321997875,
          0.04144527098831031,
          0.04357066950053135,
          0.04569606801275239,
          0.04569606801275239,
          0.04675876726886291,
          0.04994686503719448,
          0.052072263549415514,
          0.0563230605738576,
          0.05844845908607864,
          0.061636556854410204,
          0.06482465462274177,
          0.0669500531349628,
          0.07120085015940489,
          0.0765143464399575,
          0.08395324123273114,
          0.08607863974495218,
          0.08926673751328375,
          0.09776833156216791,
          0.10201912858660998,
          0.1030818278427205,
          0.1030818278427205,
          0.10414452709883103,
          0.10839532412327312,
          0.11370882040382571,
          0.1179596174282678,
          0.11902231668437832,
          0.12327311370882041,
          0.12858660998937302,
          0.13708820403825717,
          0.14027630180658873,
          0.14133900106269925,
          0.1487778958554729,
          0.155154091392136,
          0.16259298618490967,
          0.17215727948990436,
          0.18278427205100956,
          0.19553666312433582,
          0.21360255047821466,
          0.230605738575983,
          0.2316684378320935,
          0.2507970244420829,
          0.2518597236981934,
          0.2667375132837407,
          0.2678002125398512,
          0.28480340063761955,
          0.2858660998937301,
          0.30924548352816156,
          0.33156216790648246,
          0.35494155154091395,
          0.3931987247608927,
          0.3942614240170032,
          0.42826780021253985,
          0.4760892667375133,
          0.5313496280552603,
          0.6078639744952179,
          0.6099893730074389,
          0.6705632306057385,
          0.7598299681190224,
          1
         ],
         "y": [
          0,
          0.21680672268907564,
          0.3176470588235294,
          0.31932773109243695,
          0.3949579831932773,
          0.4369747899159664,
          0.48739495798319327,
          0.4907563025210084,
          0.5260504201680672,
          0.5294117647058824,
          0.5630252100840336,
          0.5663865546218487,
          0.584873949579832,
          0.6084033613445378,
          0.6369747899159663,
          0.6638655462184874,
          0.6655462184873949,
          0.6840336134453782,
          0.6941176470588235,
          0.704201680672269,
          0.7058823529411765,
          0.7277310924369748,
          0.7294117647058823,
          0.7327731092436974,
          0.7428571428571429,
          0.7445378151260504,
          0.7647058823529411,
          0.7747899159663866,
          0.7764705882352941,
          0.788235294117647,
          0.7899159663865546,
          0.7983193277310925,
          0.8084033613445378,
          0.8201680672268907,
          0.8235294117647058,
          0.8336134453781513,
          0.8487394957983193,
          0.8504201680672269,
          0.8554621848739495,
          0.8689075630252101,
          0.8689075630252101,
          0.8705882352941177,
          0.8739495798319328,
          0.8739495798319328,
          0.8756302521008403,
          0.8789915966386554,
          0.880672268907563,
          0.8890756302521008,
          0.8907563025210085,
          0.8941176470588236,
          0.8941176470588236,
          0.8974789915966387,
          0.9042016806722689,
          0.9058823529411765,
          0.907563025210084,
          0.9109243697478991,
          0.9109243697478991,
          0.9142857142857143,
          0.9176470588235294,
          0.9193277310924369,
          0.9226890756302522,
          0.9226890756302522,
          0.9310924369747899,
          0.9378151260504202,
          0.9378151260504202,
          0.9394957983193277,
          0.9394957983193277,
          0.9394957983193277,
          0.9428571428571428,
          0.9445378151260504,
          0.9445378151260504,
          0.9495798319327731,
          0.9512605042016806,
          0.9546218487394958,
          0.9546218487394958,
          0.9546218487394958,
          0.9563025210084034,
          0.9563025210084034,
          0.9596638655462185,
          0.9596638655462185,
          0.9630252100840336,
          0.9630252100840336,
          0.9647058823529412,
          0.9663865546218487,
          0.9697478991596639,
          0.9714285714285714,
          0.973109243697479,
          0.973109243697479,
          0.973109243697479,
          0.9747899159663865,
          0.9764705882352941,
          0.9764705882352941,
          0.9764705882352941,
          0.9781512605042016,
          0.9781512605042016,
          0.9781512605042016,
          0.9798319327731092,
          0.9798319327731092,
          0.9798319327731092,
          0.9798319327731092,
          0.9798319327731092,
          0.9815126050420168,
          0.9815126050420168,
          0.9831932773109243,
          0.984873949579832,
          0.984873949579832,
          0.984873949579832,
          0.984873949579832,
          0.984873949579832,
          0.984873949579832,
          0.984873949579832,
          0.984873949579832,
          0.984873949579832,
          0.984873949579832,
          0.984873949579832,
          0.9882352941176471,
          0.9882352941176471,
          0.9899159663865547,
          0.9932773109243698,
          0.9932773109243698,
          0.9932773109243698,
          0.9932773109243698,
          0.9932773109243698,
          0.9949579831932773,
          1
         ]
        }
       ],
       "layout": {
        "template": {
         "data": {
          "bar": [
           {
            "error_x": {
             "color": "#2a3f5f"
            },
            "error_y": {
             "color": "#2a3f5f"
            },
            "marker": {
             "line": {
              "color": "#E5ECF6",
              "width": 0.5
             },
             "pattern": {
              "fillmode": "overlay",
              "size": 10,
              "solidity": 0.2
             }
            },
            "type": "bar"
           }
          ],
          "barpolar": [
           {
            "marker": {
             "line": {
              "color": "#E5ECF6",
              "width": 0.5
             },
             "pattern": {
              "fillmode": "overlay",
              "size": 10,
              "solidity": 0.2
             }
            },
            "type": "barpolar"
           }
          ],
          "carpet": [
           {
            "aaxis": {
             "endlinecolor": "#2a3f5f",
             "gridcolor": "white",
             "linecolor": "white",
             "minorgridcolor": "white",
             "startlinecolor": "#2a3f5f"
            },
            "baxis": {
             "endlinecolor": "#2a3f5f",
             "gridcolor": "white",
             "linecolor": "white",
             "minorgridcolor": "white",
             "startlinecolor": "#2a3f5f"
            },
            "type": "carpet"
           }
          ],
          "choropleth": [
           {
            "colorbar": {
             "outlinewidth": 0,
             "ticks": ""
            },
            "type": "choropleth"
           }
          ],
          "contour": [
           {
            "colorbar": {
             "outlinewidth": 0,
             "ticks": ""
            },
            "colorscale": [
             [
              0,
              "#0d0887"
             ],
             [
              0.1111111111111111,
              "#46039f"
             ],
             [
              0.2222222222222222,
              "#7201a8"
             ],
             [
              0.3333333333333333,
              "#9c179e"
             ],
             [
              0.4444444444444444,
              "#bd3786"
             ],
             [
              0.5555555555555556,
              "#d8576b"
             ],
             [
              0.6666666666666666,
              "#ed7953"
             ],
             [
              0.7777777777777778,
              "#fb9f3a"
             ],
             [
              0.8888888888888888,
              "#fdca26"
             ],
             [
              1,
              "#f0f921"
             ]
            ],
            "type": "contour"
           }
          ],
          "contourcarpet": [
           {
            "colorbar": {
             "outlinewidth": 0,
             "ticks": ""
            },
            "type": "contourcarpet"
           }
          ],
          "heatmap": [
           {
            "colorbar": {
             "outlinewidth": 0,
             "ticks": ""
            },
            "colorscale": [
             [
              0,
              "#0d0887"
             ],
             [
              0.1111111111111111,
              "#46039f"
             ],
             [
              0.2222222222222222,
              "#7201a8"
             ],
             [
              0.3333333333333333,
              "#9c179e"
             ],
             [
              0.4444444444444444,
              "#bd3786"
             ],
             [
              0.5555555555555556,
              "#d8576b"
             ],
             [
              0.6666666666666666,
              "#ed7953"
             ],
             [
              0.7777777777777778,
              "#fb9f3a"
             ],
             [
              0.8888888888888888,
              "#fdca26"
             ],
             [
              1,
              "#f0f921"
             ]
            ],
            "type": "heatmap"
           }
          ],
          "heatmapgl": [
           {
            "colorbar": {
             "outlinewidth": 0,
             "ticks": ""
            },
            "colorscale": [
             [
              0,
              "#0d0887"
             ],
             [
              0.1111111111111111,
              "#46039f"
             ],
             [
              0.2222222222222222,
              "#7201a8"
             ],
             [
              0.3333333333333333,
              "#9c179e"
             ],
             [
              0.4444444444444444,
              "#bd3786"
             ],
             [
              0.5555555555555556,
              "#d8576b"
             ],
             [
              0.6666666666666666,
              "#ed7953"
             ],
             [
              0.7777777777777778,
              "#fb9f3a"
             ],
             [
              0.8888888888888888,
              "#fdca26"
             ],
             [
              1,
              "#f0f921"
             ]
            ],
            "type": "heatmapgl"
           }
          ],
          "histogram": [
           {
            "marker": {
             "pattern": {
              "fillmode": "overlay",
              "size": 10,
              "solidity": 0.2
             }
            },
            "type": "histogram"
           }
          ],
          "histogram2d": [
           {
            "colorbar": {
             "outlinewidth": 0,
             "ticks": ""
            },
            "colorscale": [
             [
              0,
              "#0d0887"
             ],
             [
              0.1111111111111111,
              "#46039f"
             ],
             [
              0.2222222222222222,
              "#7201a8"
             ],
             [
              0.3333333333333333,
              "#9c179e"
             ],
             [
              0.4444444444444444,
              "#bd3786"
             ],
             [
              0.5555555555555556,
              "#d8576b"
             ],
             [
              0.6666666666666666,
              "#ed7953"
             ],
             [
              0.7777777777777778,
              "#fb9f3a"
             ],
             [
              0.8888888888888888,
              "#fdca26"
             ],
             [
              1,
              "#f0f921"
             ]
            ],
            "type": "histogram2d"
           }
          ],
          "histogram2dcontour": [
           {
            "colorbar": {
             "outlinewidth": 0,
             "ticks": ""
            },
            "colorscale": [
             [
              0,
              "#0d0887"
             ],
             [
              0.1111111111111111,
              "#46039f"
             ],
             [
              0.2222222222222222,
              "#7201a8"
             ],
             [
              0.3333333333333333,
              "#9c179e"
             ],
             [
              0.4444444444444444,
              "#bd3786"
             ],
             [
              0.5555555555555556,
              "#d8576b"
             ],
             [
              0.6666666666666666,
              "#ed7953"
             ],
             [
              0.7777777777777778,
              "#fb9f3a"
             ],
             [
              0.8888888888888888,
              "#fdca26"
             ],
             [
              1,
              "#f0f921"
             ]
            ],
            "type": "histogram2dcontour"
           }
          ],
          "mesh3d": [
           {
            "colorbar": {
             "outlinewidth": 0,
             "ticks": ""
            },
            "type": "mesh3d"
           }
          ],
          "parcoords": [
           {
            "line": {
             "colorbar": {
              "outlinewidth": 0,
              "ticks": ""
             }
            },
            "type": "parcoords"
           }
          ],
          "pie": [
           {
            "automargin": true,
            "type": "pie"
           }
          ],
          "scatter": [
           {
            "fillpattern": {
             "fillmode": "overlay",
             "size": 10,
             "solidity": 0.2
            },
            "type": "scatter"
           }
          ],
          "scatter3d": [
           {
            "line": {
             "colorbar": {
              "outlinewidth": 0,
              "ticks": ""
             }
            },
            "marker": {
             "colorbar": {
              "outlinewidth": 0,
              "ticks": ""
             }
            },
            "type": "scatter3d"
           }
          ],
          "scattercarpet": [
           {
            "marker": {
             "colorbar": {
              "outlinewidth": 0,
              "ticks": ""
             }
            },
            "type": "scattercarpet"
           }
          ],
          "scattergeo": [
           {
            "marker": {
             "colorbar": {
              "outlinewidth": 0,
              "ticks": ""
             }
            },
            "type": "scattergeo"
           }
          ],
          "scattergl": [
           {
            "marker": {
             "colorbar": {
              "outlinewidth": 0,
              "ticks": ""
             }
            },
            "type": "scattergl"
           }
          ],
          "scattermapbox": [
           {
            "marker": {
             "colorbar": {
              "outlinewidth": 0,
              "ticks": ""
             }
            },
            "type": "scattermapbox"
           }
          ],
          "scatterpolar": [
           {
            "marker": {
             "colorbar": {
              "outlinewidth": 0,
              "ticks": ""
             }
            },
            "type": "scatterpolar"
           }
          ],
          "scatterpolargl": [
           {
            "marker": {
             "colorbar": {
              "outlinewidth": 0,
              "ticks": ""
             }
            },
            "type": "scatterpolargl"
           }
          ],
          "scatterternary": [
           {
            "marker": {
             "colorbar": {
              "outlinewidth": 0,
              "ticks": ""
             }
            },
            "type": "scatterternary"
           }
          ],
          "surface": [
           {
            "colorbar": {
             "outlinewidth": 0,
             "ticks": ""
            },
            "colorscale": [
             [
              0,
              "#0d0887"
             ],
             [
              0.1111111111111111,
              "#46039f"
             ],
             [
              0.2222222222222222,
              "#7201a8"
             ],
             [
              0.3333333333333333,
              "#9c179e"
             ],
             [
              0.4444444444444444,
              "#bd3786"
             ],
             [
              0.5555555555555556,
              "#d8576b"
             ],
             [
              0.6666666666666666,
              "#ed7953"
             ],
             [
              0.7777777777777778,
              "#fb9f3a"
             ],
             [
              0.8888888888888888,
              "#fdca26"
             ],
             [
              1,
              "#f0f921"
             ]
            ],
            "type": "surface"
           }
          ],
          "table": [
           {
            "cells": {
             "fill": {
              "color": "#EBF0F8"
             },
             "line": {
              "color": "white"
             }
            },
            "header": {
             "fill": {
              "color": "#C8D4E3"
             },
             "line": {
              "color": "white"
             }
            },
            "type": "table"
           }
          ]
         },
         "layout": {
          "annotationdefaults": {
           "arrowcolor": "#2a3f5f",
           "arrowhead": 0,
           "arrowwidth": 1
          },
          "autotypenumbers": "strict",
          "coloraxis": {
           "colorbar": {
            "outlinewidth": 0,
            "ticks": ""
           }
          },
          "colorscale": {
           "diverging": [
            [
             0,
             "#8e0152"
            ],
            [
             0.1,
             "#c51b7d"
            ],
            [
             0.2,
             "#de77ae"
            ],
            [
             0.3,
             "#f1b6da"
            ],
            [
             0.4,
             "#fde0ef"
            ],
            [
             0.5,
             "#f7f7f7"
            ],
            [
             0.6,
             "#e6f5d0"
            ],
            [
             0.7,
             "#b8e186"
            ],
            [
             0.8,
             "#7fbc41"
            ],
            [
             0.9,
             "#4d9221"
            ],
            [
             1,
             "#276419"
            ]
           ],
           "sequential": [
            [
             0,
             "#0d0887"
            ],
            [
             0.1111111111111111,
             "#46039f"
            ],
            [
             0.2222222222222222,
             "#7201a8"
            ],
            [
             0.3333333333333333,
             "#9c179e"
            ],
            [
             0.4444444444444444,
             "#bd3786"
            ],
            [
             0.5555555555555556,
             "#d8576b"
            ],
            [
             0.6666666666666666,
             "#ed7953"
            ],
            [
             0.7777777777777778,
             "#fb9f3a"
            ],
            [
             0.8888888888888888,
             "#fdca26"
            ],
            [
             1,
             "#f0f921"
            ]
           ],
           "sequentialminus": [
            [
             0,
             "#0d0887"
            ],
            [
             0.1111111111111111,
             "#46039f"
            ],
            [
             0.2222222222222222,
             "#7201a8"
            ],
            [
             0.3333333333333333,
             "#9c179e"
            ],
            [
             0.4444444444444444,
             "#bd3786"
            ],
            [
             0.5555555555555556,
             "#d8576b"
            ],
            [
             0.6666666666666666,
             "#ed7953"
            ],
            [
             0.7777777777777778,
             "#fb9f3a"
            ],
            [
             0.8888888888888888,
             "#fdca26"
            ],
            [
             1,
             "#f0f921"
            ]
           ]
          },
          "colorway": [
           "#636efa",
           "#EF553B",
           "#00cc96",
           "#ab63fa",
           "#FFA15A",
           "#19d3f3",
           "#FF6692",
           "#B6E880",
           "#FF97FF",
           "#FECB52"
          ],
          "font": {
           "color": "#2a3f5f"
          },
          "geo": {
           "bgcolor": "white",
           "lakecolor": "white",
           "landcolor": "#E5ECF6",
           "showlakes": true,
           "showland": true,
           "subunitcolor": "white"
          },
          "hoverlabel": {
           "align": "left"
          },
          "hovermode": "closest",
          "mapbox": {
           "style": "light"
          },
          "paper_bgcolor": "white",
          "plot_bgcolor": "#E5ECF6",
          "polar": {
           "angularaxis": {
            "gridcolor": "white",
            "linecolor": "white",
            "ticks": ""
           },
           "bgcolor": "#E5ECF6",
           "radialaxis": {
            "gridcolor": "white",
            "linecolor": "white",
            "ticks": ""
           }
          },
          "scene": {
           "xaxis": {
            "backgroundcolor": "#E5ECF6",
            "gridcolor": "white",
            "gridwidth": 2,
            "linecolor": "white",
            "showbackground": true,
            "ticks": "",
            "zerolinecolor": "white"
           },
           "yaxis": {
            "backgroundcolor": "#E5ECF6",
            "gridcolor": "white",
            "gridwidth": 2,
            "linecolor": "white",
            "showbackground": true,
            "ticks": "",
            "zerolinecolor": "white"
           },
           "zaxis": {
            "backgroundcolor": "#E5ECF6",
            "gridcolor": "white",
            "gridwidth": 2,
            "linecolor": "white",
            "showbackground": true,
            "ticks": "",
            "zerolinecolor": "white"
           }
          },
          "shapedefaults": {
           "line": {
            "color": "#2a3f5f"
           }
          },
          "ternary": {
           "aaxis": {
            "gridcolor": "white",
            "linecolor": "white",
            "ticks": ""
           },
           "baxis": {
            "gridcolor": "white",
            "linecolor": "white",
            "ticks": ""
           },
           "bgcolor": "#E5ECF6",
           "caxis": {
            "gridcolor": "white",
            "linecolor": "white",
            "ticks": ""
           }
          },
          "title": {
           "x": 0.05
          },
          "xaxis": {
           "automargin": true,
           "gridcolor": "white",
           "linecolor": "white",
           "ticks": "",
           "title": {
            "standoff": 15
           },
           "zerolinecolor": "white",
           "zerolinewidth": 2
          },
          "yaxis": {
           "automargin": true,
           "gridcolor": "white",
           "linecolor": "white",
           "ticks": "",
           "title": {
            "standoff": 15
           },
           "zerolinecolor": "white",
           "zerolinewidth": 2
          }
         }
        },
        "title": {
         "text": "ROC curve"
        },
        "xaxis": {
         "title": {
          "text": "False Positive Rate"
         }
        },
        "yaxis": {
         "title": {
          "text": "True Positive Rate"
         }
        }
       }
      }
     },
     "metadata": {},
     "output_type": "display_data"
    }
   ],
   "source": [
    "proba_lr = lr.predict_proba(X_test)[:, 1]\n",
    "#proba_gam = gam.predict_proba(X_test)\n",
    "proba_tree = tree.predict_proba(X_test)[:, 1]\n",
    "proba_gb = gb.predict_proba(X_test)[:, 1]\n",
    "proba_rf = rf.predict_proba(X_test)[:, 1]\n",
    "\n",
    "# calcualte false positive rate and true positive rate\n",
    "from sklearn.metrics import roc_curve, auc\n",
    "fpr_lr, tpr_lr, _ = roc_curve(y_test, proba_lr)\n",
    "#fpr_gam, tpr_gam, _ = roc_curve(y_test, proba_gam)\n",
    "fpr_tree, tpr_tree, _ = roc_curve(y_test, proba_tree)\n",
    "fpr_gb, tpr_gb, _ = roc_curve(y_test, proba_gb)\n",
    "fpr_rf, tpr_rf, _ = roc_curve(y_test, proba_rf)\n",
    "\n",
    "auc_lr = auc(fpr_lr, tpr_lr)\n",
    "#auc_gam = auc(fpr_gam, tpr_gam)\n",
    "auc_tree = auc(fpr_tree, tpr_tree)\n",
    "auc_gb = auc(fpr_gb, tpr_gb)\n",
    "auc_rf = auc(fpr_rf, tpr_rf)\n",
    "\n",
    "# plot the ROC curve\n",
    "import plotly.graph_objects as go\n",
    "fig = go.Figure()\n",
    "fig.add_trace(go.Scatter(x=fpr_lr, y=tpr_lr, mode='lines', name=f'Logistic Regression ({auc_lr:.3f})'))\n",
    "#fig.add_trace(go.Scatter(x=fpr_gam, y=tpr_gam, mode='lines', name=f'Generalized Linear Model ({auc_gam:.3f})'))\n",
    "fig.add_trace(go.Scatter(x=fpr_tree, y=tpr_tree, mode='lines', name=f'Decision Tree ({auc_tree:.3f})'))\n",
    "fig.add_trace(go.Scatter(x=fpr_gb, y=tpr_gb, mode='lines', name=f'Gradient Boosting ({auc_gb:.3f})'))\n",
    "fig.add_trace(go.Scatter(x=[0, 1], y=[0, 1], mode='lines', line=dict(dash='dash'), name='Random'))\n",
    "fig.add_trace(go.Scatter(x=fpr_rf, y=tpr_rf, mode='lines', name=f'Random Forest ({auc_rf:.3f})'))\n",
    "fig.update_layout(title='ROC curve', xaxis_title='False Positive Rate', yaxis_title='True Positive Rate')\n",
    "fig.show()"
   ]
  }
 ],
 "metadata": {
  "kernelspec": {
   "display_name": "surprise-env",
   "language": "python",
   "name": "python3"
  },
  "language_info": {
   "codemirror_mode": {
    "name": "ipython",
    "version": 3
   },
   "file_extension": ".py",
   "mimetype": "text/x-python",
   "name": "python",
   "nbconvert_exporter": "python",
   "pygments_lexer": "ipython3",
   "version": "3.12.8"
  }
 },
 "nbformat": 4,
 "nbformat_minor": 2
}
